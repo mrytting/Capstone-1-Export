{
 "cells": [
  {
   "cell_type": "code",
   "execution_count": 85,
   "metadata": {
    "collapsed": false
   },
   "outputs": [
    {
     "name": "stdout",
     "output_type": "stream",
     "text": [
      "Populating the interactive namespace from numpy and matplotlib\n"
     ]
    }
   ],
   "source": [
    "import numpy as np\n",
    "import pandas as pd\n",
    "import matplotlib.pyplot as plt\n",
    "import seaborn as sns\n",
    "from scipy import stats\n",
    "%pylab inline\n",
    "#seaborn settings\n",
    "sns.set_palette(\"deep\", desat=.6)\n",
    "sns.set_context(rc={\"figure.figsize\": (10,6)})"
   ]
  },
  {
   "cell_type": "code",
   "execution_count": 2,
   "metadata": {
    "collapsed": true
   },
   "outputs": [],
   "source": [
    "% matplotlib inline\n",
    "plt.style.use('ggplot')"
   ]
  },
  {
   "cell_type": "markdown",
   "metadata": {},
   "source": [
    "# Data Preparation\n",
    "\n",
    "These initial steps access the data, explore it, isolate important columns, and clean it. "
   ]
  },
  {
   "cell_type": "code",
   "execution_count": 3,
   "metadata": {
    "collapsed": false
   },
   "outputs": [
    {
     "data": {
      "text/html": [
       "<div>\n",
       "<table border=\"1\" class=\"dataframe\">\n",
       "  <thead>\n",
       "    <tr style=\"text-align: right;\">\n",
       "      <th></th>\n",
       "      <th>Contact Prefix</th>\n",
       "      <th>Contact First Name</th>\n",
       "      <th>Contact Middle Name</th>\n",
       "      <th>Contact Last Name</th>\n",
       "      <th>Contact Suffix</th>\n",
       "      <th>Contact Title</th>\n",
       "      <th>Age</th>\n",
       "      <th>Salary (US Dollars)</th>\n",
       "      <th>Bonus (US Dollars)</th>\n",
       "      <th>Company Name</th>\n",
       "      <th>...</th>\n",
       "      <th>Bonus (US Dollars)12</th>\n",
       "      <th>Contact Prefix13</th>\n",
       "      <th>Contact First Name13</th>\n",
       "      <th>Contact Middle Name13</th>\n",
       "      <th>Contact Last Name13</th>\n",
       "      <th>Contact Suffix13</th>\n",
       "      <th>Contact Title13</th>\n",
       "      <th>Age13</th>\n",
       "      <th>Salary (US Dollars)13</th>\n",
       "      <th>Bonus (US Dollars)13</th>\n",
       "    </tr>\n",
       "  </thead>\n",
       "  <tbody>\n",
       "    <tr>\n",
       "      <th>0</th>\n",
       "      <td>Mr</td>\n",
       "      <td>Bruce</td>\n",
       "      <td>NaN</td>\n",
       "      <td>Roberts</td>\n",
       "      <td>NaN</td>\n",
       "      <td>Manager</td>\n",
       "      <td>NaN</td>\n",
       "      <td>NaN</td>\n",
       "      <td>YES</td>\n",
       "      <td>Clement Welding &amp; Fabricating Inc</td>\n",
       "      <td>...</td>\n",
       "      <td>NaN</td>\n",
       "      <td>NaN</td>\n",
       "      <td>NaN</td>\n",
       "      <td>NaN</td>\n",
       "      <td>NaN</td>\n",
       "      <td>NaN</td>\n",
       "      <td>NaN</td>\n",
       "      <td>NaN</td>\n",
       "      <td>NaN</td>\n",
       "      <td>NaN</td>\n",
       "    </tr>\n",
       "    <tr>\n",
       "      <th>1</th>\n",
       "      <td>Mr</td>\n",
       "      <td>Jere</td>\n",
       "      <td>NaN</td>\n",
       "      <td>Benedict</td>\n",
       "      <td>NaN</td>\n",
       "      <td>Pres-treas</td>\n",
       "      <td>NaN</td>\n",
       "      <td>NaN</td>\n",
       "      <td>YES</td>\n",
       "      <td>Bencher Inc</td>\n",
       "      <td>...</td>\n",
       "      <td>NaN</td>\n",
       "      <td>NaN</td>\n",
       "      <td>NaN</td>\n",
       "      <td>NaN</td>\n",
       "      <td>NaN</td>\n",
       "      <td>NaN</td>\n",
       "      <td>NaN</td>\n",
       "      <td>NaN</td>\n",
       "      <td>NaN</td>\n",
       "      <td>NaN</td>\n",
       "    </tr>\n",
       "    <tr>\n",
       "      <th>2</th>\n",
       "      <td>NaN</td>\n",
       "      <td>NaN</td>\n",
       "      <td>NaN</td>\n",
       "      <td>NaN</td>\n",
       "      <td>NaN</td>\n",
       "      <td>NaN</td>\n",
       "      <td>NaN</td>\n",
       "      <td>NaN</td>\n",
       "      <td>YES</td>\n",
       "      <td>Pride Abrasive Inc</td>\n",
       "      <td>...</td>\n",
       "      <td>NaN</td>\n",
       "      <td>NaN</td>\n",
       "      <td>NaN</td>\n",
       "      <td>NaN</td>\n",
       "      <td>NaN</td>\n",
       "      <td>NaN</td>\n",
       "      <td>NaN</td>\n",
       "      <td>NaN</td>\n",
       "      <td>NaN</td>\n",
       "      <td>NaN</td>\n",
       "    </tr>\n",
       "    <tr>\n",
       "      <th>3</th>\n",
       "      <td>Mr</td>\n",
       "      <td>Chris</td>\n",
       "      <td>NaN</td>\n",
       "      <td>Clough</td>\n",
       "      <td>NaN</td>\n",
       "      <td>Operations Manager</td>\n",
       "      <td>NaN</td>\n",
       "      <td>NaN</td>\n",
       "      <td>YES</td>\n",
       "      <td>Puratos Corporation</td>\n",
       "      <td>...</td>\n",
       "      <td>NaN</td>\n",
       "      <td>NaN</td>\n",
       "      <td>NaN</td>\n",
       "      <td>NaN</td>\n",
       "      <td>NaN</td>\n",
       "      <td>NaN</td>\n",
       "      <td>NaN</td>\n",
       "      <td>NaN</td>\n",
       "      <td>NaN</td>\n",
       "      <td>NaN</td>\n",
       "    </tr>\n",
       "    <tr>\n",
       "      <th>4</th>\n",
       "      <td>Ms</td>\n",
       "      <td>Ida</td>\n",
       "      <td>NaN</td>\n",
       "      <td>Tenuta</td>\n",
       "      <td>NaN</td>\n",
       "      <td>V Pres</td>\n",
       "      <td>NaN</td>\n",
       "      <td>NaN</td>\n",
       "      <td>YES</td>\n",
       "      <td>A T Polishing Inc</td>\n",
       "      <td>...</td>\n",
       "      <td>NaN</td>\n",
       "      <td>NaN</td>\n",
       "      <td>NaN</td>\n",
       "      <td>NaN</td>\n",
       "      <td>NaN</td>\n",
       "      <td>NaN</td>\n",
       "      <td>NaN</td>\n",
       "      <td>NaN</td>\n",
       "      <td>NaN</td>\n",
       "      <td>NaN</td>\n",
       "    </tr>\n",
       "  </tbody>\n",
       "</table>\n",
       "<p>5 rows × 200 columns</p>\n",
       "</div>"
      ],
      "text/plain": [
       "  Contact Prefix Contact First Name Contact Middle Name Contact Last Name  \\\n",
       "0             Mr              Bruce                 NaN           Roberts   \n",
       "1             Mr               Jere                 NaN          Benedict   \n",
       "2            NaN                NaN                 NaN               NaN   \n",
       "3             Mr              Chris                 NaN            Clough   \n",
       "4             Ms                Ida                 NaN            Tenuta   \n",
       "\n",
       "  Contact Suffix       Contact Title  Age  Salary (US Dollars)  \\\n",
       "0            NaN             Manager  NaN                  NaN   \n",
       "1            NaN          Pres-treas  NaN                  NaN   \n",
       "2            NaN                 NaN  NaN                  NaN   \n",
       "3            NaN  Operations Manager  NaN                  NaN   \n",
       "4            NaN              V Pres  NaN                  NaN   \n",
       "\n",
       "  Bonus (US Dollars)                       Company Name          ...           \\\n",
       "0                YES  Clement Welding & Fabricating Inc          ...            \n",
       "1                YES                        Bencher Inc          ...            \n",
       "2                YES                 Pride Abrasive Inc          ...            \n",
       "3                YES                Puratos Corporation          ...            \n",
       "4                YES                  A T Polishing Inc          ...            \n",
       "\n",
       "  Bonus (US Dollars)12 Contact Prefix13 Contact First Name13  \\\n",
       "0                  NaN              NaN                  NaN   \n",
       "1                  NaN              NaN                  NaN   \n",
       "2                  NaN              NaN                  NaN   \n",
       "3                  NaN              NaN                  NaN   \n",
       "4                  NaN              NaN                  NaN   \n",
       "\n",
       "  Contact Middle Name13 Contact Last Name13  Contact Suffix13  \\\n",
       "0                   NaN                 NaN               NaN   \n",
       "1                   NaN                 NaN               NaN   \n",
       "2                   NaN                 NaN               NaN   \n",
       "3                   NaN                 NaN               NaN   \n",
       "4                   NaN                 NaN               NaN   \n",
       "\n",
       "   Contact Title13 Age13 Salary (US Dollars)13  Bonus (US Dollars)13  \n",
       "0              NaN   NaN                   NaN                   NaN  \n",
       "1              NaN   NaN                   NaN                   NaN  \n",
       "2              NaN   NaN                   NaN                   NaN  \n",
       "3              NaN   NaN                   NaN                   NaN  \n",
       "4              NaN   NaN                   NaN                   NaN  \n",
       "\n",
       "[5 rows x 200 columns]"
      ]
     },
     "execution_count": 3,
     "metadata": {},
     "output_type": "execute_result"
    }
   ],
   "source": [
    "xl = pd.ExcelFile('Copy of WI_Manufacturers316.xlsx')\n",
    "xl.sheet_names\n",
    "\n",
    "[u'Sheet1', u'Sheet2', u'Sheet3']\n",
    "\n",
    "df1 = xl.parse(\"Sheet1\")\n",
    "df1.head()"
   ]
  },
  {
   "cell_type": "code",
   "execution_count": 4,
   "metadata": {
    "collapsed": false
   },
   "outputs": [
    {
     "data": {
      "text/plain": [
       "20065"
      ]
     },
     "execution_count": 4,
     "metadata": {},
     "output_type": "execute_result"
    }
   ],
   "source": [
    "len(df1)"
   ]
  },
  {
   "cell_type": "markdown",
   "metadata": {},
   "source": [
    "Initial examination shows several possible important columns: Line Of Business, Owns Rents, Facility Size, Is Importer, Is Exporter, Doing Business As, Company Type, Is Subsidiary, Is Manufacturing, Language Preference, Is Women Owned, Is Minority Owned, Fiscal Year-End, Revenue (US Dollars, million), Revenue Growth (%), Net Income (US Dollars, million), Income Growth (%), Total Employees, Employee Growth (%), Total Assets (US Dollars, million), Market Value (US Dollars, million), Primary Industry "
   ]
  },
  {
   "cell_type": "code",
   "execution_count": 5,
   "metadata": {
    "collapsed": true
   },
   "outputs": [],
   "source": [
    "df = df1[['Company Name','Line Of Business','Owns Rents','Facility Size (sq Ft)', 'Is Importer', 'Is Exporter', 'Is Manufacturing', 'Is Women Owned', 'Is Minority Owned', 'Revenue (US Dollars, million)', 'Net Income (US Dollars, million)', 'Total Employees', 'Total Assets (US Dollars, million)', 'Primary Industry' ]]"
   ]
  },
  {
   "cell_type": "code",
   "execution_count": 6,
   "metadata": {
    "collapsed": false
   },
   "outputs": [
    {
     "data": {
      "text/html": [
       "<div>\n",
       "<table border=\"1\" class=\"dataframe\">\n",
       "  <thead>\n",
       "    <tr style=\"text-align: right;\">\n",
       "      <th></th>\n",
       "      <th>Company Name</th>\n",
       "      <th>Line Of Business</th>\n",
       "      <th>Owns Rents</th>\n",
       "      <th>Facility Size (sq Ft)</th>\n",
       "      <th>Is Importer</th>\n",
       "      <th>Is Exporter</th>\n",
       "      <th>Is Manufacturing</th>\n",
       "      <th>Is Women Owned</th>\n",
       "      <th>Is Minority Owned</th>\n",
       "      <th>Revenue (US Dollars, million)</th>\n",
       "      <th>Net Income (US Dollars, million)</th>\n",
       "      <th>Total Employees</th>\n",
       "      <th>Total Assets (US Dollars, million)</th>\n",
       "      <th>Primary Industry</th>\n",
       "    </tr>\n",
       "  </thead>\n",
       "  <tbody>\n",
       "    <tr>\n",
       "      <th>0</th>\n",
       "      <td>Clement Welding &amp; Fabricating Inc</td>\n",
       "      <td>Fabricated metal products, nec, nsk</td>\n",
       "      <td>Owns</td>\n",
       "      <td>10000.0</td>\n",
       "      <td>No</td>\n",
       "      <td>No</td>\n",
       "      <td>Yes</td>\n",
       "      <td>No</td>\n",
       "      <td>No</td>\n",
       "      <td>1.400000</td>\n",
       "      <td>0.0</td>\n",
       "      <td>15.0</td>\n",
       "      <td>0.0</td>\n",
       "      <td>Fabricated Metal Product Manufacturing</td>\n",
       "    </tr>\n",
       "    <tr>\n",
       "      <th>1</th>\n",
       "      <td>Bencher Inc</td>\n",
       "      <td>Photographic equipment and supplies</td>\n",
       "      <td>Rents</td>\n",
       "      <td>11000.0</td>\n",
       "      <td>No</td>\n",
       "      <td>No</td>\n",
       "      <td>Yes</td>\n",
       "      <td>No</td>\n",
       "      <td>No</td>\n",
       "      <td>1.400000</td>\n",
       "      <td>0.0</td>\n",
       "      <td>12.0</td>\n",
       "      <td>0.0</td>\n",
       "      <td>Photographic &amp; Optical Equipment/Supplies Manu...</td>\n",
       "    </tr>\n",
       "    <tr>\n",
       "      <th>2</th>\n",
       "      <td>Pride Abrasive Inc</td>\n",
       "      <td>Abrasive products, nsk</td>\n",
       "      <td>Rents</td>\n",
       "      <td>11500.0</td>\n",
       "      <td>Yes</td>\n",
       "      <td>No</td>\n",
       "      <td>Yes</td>\n",
       "      <td>Yes</td>\n",
       "      <td>No</td>\n",
       "      <td>1.400000</td>\n",
       "      <td>0.0</td>\n",
       "      <td>17.0</td>\n",
       "      <td>0.0</td>\n",
       "      <td>Abrasives Manufacturing</td>\n",
       "    </tr>\n",
       "    <tr>\n",
       "      <th>3</th>\n",
       "      <td>Puratos Corporation</td>\n",
       "      <td>Food preparations, nec, nsk</td>\n",
       "      <td>NaN</td>\n",
       "      <td>11178.0</td>\n",
       "      <td>No</td>\n",
       "      <td>No</td>\n",
       "      <td>Yes</td>\n",
       "      <td>No</td>\n",
       "      <td>No</td>\n",
       "      <td>1.334543</td>\n",
       "      <td>0.0</td>\n",
       "      <td>NaN</td>\n",
       "      <td>0.0</td>\n",
       "      <td>Food Manufacturing</td>\n",
       "    </tr>\n",
       "    <tr>\n",
       "      <th>4</th>\n",
       "      <td>A T Polishing Inc</td>\n",
       "      <td>Plating and polishing</td>\n",
       "      <td>Owns</td>\n",
       "      <td>8335.0</td>\n",
       "      <td>No</td>\n",
       "      <td>No</td>\n",
       "      <td>Yes</td>\n",
       "      <td>No</td>\n",
       "      <td>No</td>\n",
       "      <td>1.500000</td>\n",
       "      <td>0.0</td>\n",
       "      <td>20.0</td>\n",
       "      <td>0.0</td>\n",
       "      <td>Fabricated Metal Product Manufacturing</td>\n",
       "    </tr>\n",
       "  </tbody>\n",
       "</table>\n",
       "</div>"
      ],
      "text/plain": [
       "                        Company Name                     Line Of Business  \\\n",
       "0  Clement Welding & Fabricating Inc  Fabricated metal products, nec, nsk   \n",
       "1                        Bencher Inc  Photographic equipment and supplies   \n",
       "2                 Pride Abrasive Inc               Abrasive products, nsk   \n",
       "3                Puratos Corporation          Food preparations, nec, nsk   \n",
       "4                  A T Polishing Inc                Plating and polishing   \n",
       "\n",
       "  Owns Rents  Facility Size (sq Ft) Is Importer Is Exporter Is Manufacturing  \\\n",
       "0       Owns                10000.0          No          No              Yes   \n",
       "1      Rents                11000.0          No          No              Yes   \n",
       "2      Rents                11500.0         Yes          No              Yes   \n",
       "3        NaN                11178.0          No          No              Yes   \n",
       "4       Owns                 8335.0          No          No              Yes   \n",
       "\n",
       "  Is Women Owned Is Minority Owned  Revenue (US Dollars, million)  \\\n",
       "0             No                No                       1.400000   \n",
       "1             No                No                       1.400000   \n",
       "2            Yes                No                       1.400000   \n",
       "3             No                No                       1.334543   \n",
       "4             No                No                       1.500000   \n",
       "\n",
       "   Net Income (US Dollars, million)  Total Employees  \\\n",
       "0                               0.0             15.0   \n",
       "1                               0.0             12.0   \n",
       "2                               0.0             17.0   \n",
       "3                               0.0              NaN   \n",
       "4                               0.0             20.0   \n",
       "\n",
       "   Total Assets (US Dollars, million)  \\\n",
       "0                                 0.0   \n",
       "1                                 0.0   \n",
       "2                                 0.0   \n",
       "3                                 0.0   \n",
       "4                                 0.0   \n",
       "\n",
       "                                    Primary Industry  \n",
       "0             Fabricated Metal Product Manufacturing  \n",
       "1  Photographic & Optical Equipment/Supplies Manu...  \n",
       "2                            Abrasives Manufacturing  \n",
       "3                                 Food Manufacturing  \n",
       "4             Fabricated Metal Product Manufacturing  "
      ]
     },
     "execution_count": 6,
     "metadata": {},
     "output_type": "execute_result"
    }
   ],
   "source": [
    "df.head()"
   ]
  },
  {
   "cell_type": "code",
   "execution_count": 7,
   "metadata": {
    "collapsed": false
   },
   "outputs": [
    {
     "data": {
      "text/plain": [
       "(20065, 14)"
      ]
     },
     "execution_count": 7,
     "metadata": {},
     "output_type": "execute_result"
    }
   ],
   "source": [
    "df.shape"
   ]
  },
  {
   "cell_type": "code",
   "execution_count": 8,
   "metadata": {
    "collapsed": false,
    "scrolled": true
   },
   "outputs": [
    {
     "name": "stdout",
     "output_type": "stream",
     "text": [
      "<class 'pandas.core.frame.DataFrame'>\n",
      "RangeIndex: 20065 entries, 0 to 20064\n",
      "Data columns (total 14 columns):\n",
      "Company Name                          20065 non-null object\n",
      "Line Of Business                      20017 non-null object\n",
      "Owns Rents                            7936 non-null object\n",
      "Facility Size (sq Ft)                 19607 non-null float64\n",
      "Is Importer                           20065 non-null object\n",
      "Is Exporter                           20065 non-null object\n",
      "Is Manufacturing                      20065 non-null object\n",
      "Is Women Owned                        20065 non-null object\n",
      "Is Minority Owned                     20065 non-null object\n",
      "Revenue (US Dollars, million)         17218 non-null float64\n",
      "Net Income (US Dollars, million)      17218 non-null float64\n",
      "Total Employees                       17249 non-null float64\n",
      "Total Assets (US Dollars, million)    17218 non-null float64\n",
      "Primary Industry                      20065 non-null object\n",
      "dtypes: float64(5), object(9)\n",
      "memory usage: 2.1+ MB\n"
     ]
    }
   ],
   "source": [
    "df.info()"
   ]
  },
  {
   "cell_type": "code",
   "execution_count": 9,
   "metadata": {
    "collapsed": false,
    "scrolled": true
   },
   "outputs": [
    {
     "data": {
      "text/plain": [
       "No     18853\n",
       "Yes     1212\n",
       "Name: Is Exporter, dtype: int64"
      ]
     },
     "execution_count": 9,
     "metadata": {},
     "output_type": "execute_result"
    }
   ],
   "source": [
    "df['Is Exporter'].value_counts(dropna = False)"
   ]
  },
  {
   "cell_type": "markdown",
   "metadata": {},
   "source": [
    "Some notes: I have kept 'Owns Rents' as I feel it may prove usefule, but it should be noted only about 40% have entries.\n",
    "\n",
    "It appears that there are companies listed more than once. For now, I will not consolidate them but treat them as separate entities.\n",
    "Facility Size, Revenue, etc have some NaN's, so be prepared for those.\n",
    "Net Income has 16924 0's. Total assets likewise has 17177 0's. So these columns have zero's inaddition to NaN's that should be accounted for."
   ]
  },
  {
   "cell_type": "code",
   "execution_count": 14,
   "metadata": {
    "collapsed": false,
    "scrolled": true
   },
   "outputs": [
    {
     "data": {
      "text/html": [
       "<div>\n",
       "<table border=\"1\" class=\"dataframe\">\n",
       "  <thead>\n",
       "    <tr style=\"text-align: right;\">\n",
       "      <th></th>\n",
       "      <th>Facility Size (sq Ft)</th>\n",
       "      <th>Revenue (US Dollars, million)</th>\n",
       "      <th>Net Income (US Dollars, million)</th>\n",
       "      <th>Total Employees</th>\n",
       "      <th>Total Assets (US Dollars, million)</th>\n",
       "    </tr>\n",
       "  </thead>\n",
       "  <tbody>\n",
       "    <tr>\n",
       "      <th>count</th>\n",
       "      <td>1.960700e+04</td>\n",
       "      <td>17218.000000</td>\n",
       "      <td>17218.000000</td>\n",
       "      <td>17249.000000</td>\n",
       "      <td>17218.000000</td>\n",
       "    </tr>\n",
       "    <tr>\n",
       "      <th>mean</th>\n",
       "      <td>1.935271e+04</td>\n",
       "      <td>17.614536</td>\n",
       "      <td>0.253996</td>\n",
       "      <td>75.136704</td>\n",
       "      <td>6.028600</td>\n",
       "    </tr>\n",
       "    <tr>\n",
       "      <th>std</th>\n",
       "      <td>6.479473e+04</td>\n",
       "      <td>337.095765</td>\n",
       "      <td>18.218770</td>\n",
       "      <td>1266.019418</td>\n",
       "      <td>266.924297</td>\n",
       "    </tr>\n",
       "    <tr>\n",
       "      <th>min</th>\n",
       "      <td>0.000000e+00</td>\n",
       "      <td>0.000005</td>\n",
       "      <td>-1178.004000</td>\n",
       "      <td>1.000000</td>\n",
       "      <td>0.000000</td>\n",
       "    </tr>\n",
       "    <tr>\n",
       "      <th>25%</th>\n",
       "      <td>2.518000e+03</td>\n",
       "      <td>0.110000</td>\n",
       "      <td>0.000000</td>\n",
       "      <td>2.000000</td>\n",
       "      <td>0.000000</td>\n",
       "    </tr>\n",
       "    <tr>\n",
       "      <th>50%</th>\n",
       "      <td>4.204000e+03</td>\n",
       "      <td>0.302094</td>\n",
       "      <td>0.000000</td>\n",
       "      <td>4.000000</td>\n",
       "      <td>0.000000</td>\n",
       "    </tr>\n",
       "    <tr>\n",
       "      <th>75%</th>\n",
       "      <td>1.386000e+04</td>\n",
       "      <td>1.700000</td>\n",
       "      <td>0.000000</td>\n",
       "      <td>15.000000</td>\n",
       "      <td>0.000000</td>\n",
       "    </tr>\n",
       "    <tr>\n",
       "      <th>max</th>\n",
       "      <td>3.300000e+06</td>\n",
       "      <td>37179.000000</td>\n",
       "      <td>1563.000000</td>\n",
       "      <td>139000.000000</td>\n",
       "      <td>29673.000000</td>\n",
       "    </tr>\n",
       "  </tbody>\n",
       "</table>\n",
       "</div>"
      ],
      "text/plain": [
       "       Facility Size (sq Ft)  Revenue (US Dollars, million)  \\\n",
       "count           1.960700e+04                   17218.000000   \n",
       "mean            1.935271e+04                      17.614536   \n",
       "std             6.479473e+04                     337.095765   \n",
       "min             0.000000e+00                       0.000005   \n",
       "25%             2.518000e+03                       0.110000   \n",
       "50%             4.204000e+03                       0.302094   \n",
       "75%             1.386000e+04                       1.700000   \n",
       "max             3.300000e+06                   37179.000000   \n",
       "\n",
       "       Net Income (US Dollars, million)  Total Employees  \\\n",
       "count                      17218.000000     17249.000000   \n",
       "mean                           0.253996        75.136704   \n",
       "std                           18.218770      1266.019418   \n",
       "min                        -1178.004000         1.000000   \n",
       "25%                            0.000000         2.000000   \n",
       "50%                            0.000000         4.000000   \n",
       "75%                            0.000000        15.000000   \n",
       "max                         1563.000000    139000.000000   \n",
       "\n",
       "       Total Assets (US Dollars, million)  \n",
       "count                        17218.000000  \n",
       "mean                             6.028600  \n",
       "std                            266.924297  \n",
       "min                              0.000000  \n",
       "25%                              0.000000  \n",
       "50%                              0.000000  \n",
       "75%                              0.000000  \n",
       "max                          29673.000000  "
      ]
     },
     "execution_count": 14,
     "metadata": {},
     "output_type": "execute_result"
    }
   ],
   "source": [
    "df.describe()"
   ]
  },
  {
   "cell_type": "markdown",
   "metadata": {},
   "source": [
    "Note that there are outliers in Facility Size, Revenue and Total Employees. Most of these companies are smaller but there are a couple of large ones. Futher, the majority of Net Income and Total Assets are 0 or less. This could mean they are not making a profit, or it could be a sign of missing data."
   ]
  },
  {
   "cell_type": "code",
   "execution_count": 22,
   "metadata": {
    "collapsed": false
   },
   "outputs": [
    {
     "data": {
      "text/html": [
       "<div>\n",
       "<table border=\"1\" class=\"dataframe\">\n",
       "  <thead>\n",
       "    <tr style=\"text-align: right;\">\n",
       "      <th></th>\n",
       "      <th>Company Name</th>\n",
       "      <th>Line Of Business</th>\n",
       "      <th>Owns Rents</th>\n",
       "      <th>Facility Size (sq Ft)</th>\n",
       "      <th>Is Importer</th>\n",
       "      <th>Is Exporter</th>\n",
       "      <th>Is Manufacturing</th>\n",
       "      <th>Is Women Owned</th>\n",
       "      <th>Is Minority Owned</th>\n",
       "      <th>Revenue (US Dollars, million)</th>\n",
       "      <th>Net Income (US Dollars, million)</th>\n",
       "      <th>Total Employees</th>\n",
       "      <th>Total Assets (US Dollars, million)</th>\n",
       "      <th>Primary Industry</th>\n",
       "    </tr>\n",
       "  </thead>\n",
       "  <tbody>\n",
       "    <tr>\n",
       "      <th>30</th>\n",
       "      <td>Snap-on Incorporated</td>\n",
       "      <td>Power-driven handtools, nsk</td>\n",
       "      <td>Owns</td>\n",
       "      <td>3300000.0</td>\n",
       "      <td>Yes</td>\n",
       "      <td>No</td>\n",
       "      <td>Yes</td>\n",
       "      <td>No</td>\n",
       "      <td>No</td>\n",
       "      <td>3593.100000</td>\n",
       "      <td>478.700</td>\n",
       "      <td>11500.0</td>\n",
       "      <td>4486.900</td>\n",
       "      <td>Handtool, Cutlery, &amp; Flatware Manufacturing</td>\n",
       "    </tr>\n",
       "    <tr>\n",
       "      <th>550</th>\n",
       "      <td>ATI LADISH LLC</td>\n",
       "      <td>Iron and steel forgings, nsk</td>\n",
       "      <td>Owns</td>\n",
       "      <td>1650000.0</td>\n",
       "      <td>Yes</td>\n",
       "      <td>Yes</td>\n",
       "      <td>Yes</td>\n",
       "      <td>No</td>\n",
       "      <td>No</td>\n",
       "      <td>403.132000</td>\n",
       "      <td>25.375</td>\n",
       "      <td>1637.0</td>\n",
       "      <td>485.568</td>\n",
       "      <td>Transportation Equipment Manufacturing</td>\n",
       "    </tr>\n",
       "    <tr>\n",
       "      <th>4971</th>\n",
       "      <td>Quad/Graphics Inc.</td>\n",
       "      <td>Commercial printing, lithographic</td>\n",
       "      <td>Owns</td>\n",
       "      <td>1970000.0</td>\n",
       "      <td>Yes</td>\n",
       "      <td>Yes</td>\n",
       "      <td>Yes</td>\n",
       "      <td>No</td>\n",
       "      <td>No</td>\n",
       "      <td>4862.400000</td>\n",
       "      <td>18.600</td>\n",
       "      <td>24100.0</td>\n",
       "      <td>4077.200</td>\n",
       "      <td>Commercial Printing</td>\n",
       "    </tr>\n",
       "    <tr>\n",
       "      <th>10760</th>\n",
       "      <td>Heinz Kraft Foods Company</td>\n",
       "      <td>Sausages and other prepared meats</td>\n",
       "      <td>Owns</td>\n",
       "      <td>1995826.0</td>\n",
       "      <td>No</td>\n",
       "      <td>No</td>\n",
       "      <td>Yes</td>\n",
       "      <td>No</td>\n",
       "      <td>No</td>\n",
       "      <td>NaN</td>\n",
       "      <td>NaN</td>\n",
       "      <td>NaN</td>\n",
       "      <td>NaN</td>\n",
       "      <td>Meat Product Manufacturing</td>\n",
       "    </tr>\n",
       "    <tr>\n",
       "      <th>13157</th>\n",
       "      <td>The Trane Company</td>\n",
       "      <td>Refrigeration and heating equipment, nsk</td>\n",
       "      <td>Rents</td>\n",
       "      <td>2000000.0</td>\n",
       "      <td>Yes</td>\n",
       "      <td>Yes</td>\n",
       "      <td>Yes</td>\n",
       "      <td>No</td>\n",
       "      <td>No</td>\n",
       "      <td>613.516388</td>\n",
       "      <td>0.000</td>\n",
       "      <td>2620.0</td>\n",
       "      <td>0.000</td>\n",
       "      <td>HVAC Equipment Manufacturing</td>\n",
       "    </tr>\n",
       "    <tr>\n",
       "      <th>18338</th>\n",
       "      <td>ASHLEY FURNITURE INDUSTRIES, INC.</td>\n",
       "      <td>Wood household furniture, nsk</td>\n",
       "      <td>Owns</td>\n",
       "      <td>2000000.0</td>\n",
       "      <td>Yes</td>\n",
       "      <td>Yes</td>\n",
       "      <td>Yes</td>\n",
       "      <td>No</td>\n",
       "      <td>No</td>\n",
       "      <td>5088.807004</td>\n",
       "      <td>0.000</td>\n",
       "      <td>16300.0</td>\n",
       "      <td>0.000</td>\n",
       "      <td>Furniture Manufacturing</td>\n",
       "    </tr>\n",
       "  </tbody>\n",
       "</table>\n",
       "</div>"
      ],
      "text/plain": [
       "                            Company Name  \\\n",
       "30                  Snap-on Incorporated   \n",
       "550                       ATI LADISH LLC   \n",
       "4971                  Quad/Graphics Inc.   \n",
       "10760          Heinz Kraft Foods Company   \n",
       "13157                  The Trane Company   \n",
       "18338  ASHLEY FURNITURE INDUSTRIES, INC.   \n",
       "\n",
       "                               Line Of Business Owns Rents  \\\n",
       "30                  Power-driven handtools, nsk       Owns   \n",
       "550                Iron and steel forgings, nsk       Owns   \n",
       "4971          Commercial printing, lithographic       Owns   \n",
       "10760         Sausages and other prepared meats       Owns   \n",
       "13157  Refrigeration and heating equipment, nsk      Rents   \n",
       "18338             Wood household furniture, nsk       Owns   \n",
       "\n",
       "       Facility Size (sq Ft) Is Importer Is Exporter Is Manufacturing  \\\n",
       "30                 3300000.0         Yes          No              Yes   \n",
       "550                1650000.0         Yes         Yes              Yes   \n",
       "4971               1970000.0         Yes         Yes              Yes   \n",
       "10760              1995826.0          No          No              Yes   \n",
       "13157              2000000.0         Yes         Yes              Yes   \n",
       "18338              2000000.0         Yes         Yes              Yes   \n",
       "\n",
       "      Is Women Owned Is Minority Owned  Revenue (US Dollars, million)  \\\n",
       "30                No                No                    3593.100000   \n",
       "550               No                No                     403.132000   \n",
       "4971              No                No                    4862.400000   \n",
       "10760             No                No                            NaN   \n",
       "13157             No                No                     613.516388   \n",
       "18338             No                No                    5088.807004   \n",
       "\n",
       "       Net Income (US Dollars, million)  Total Employees  \\\n",
       "30                              478.700          11500.0   \n",
       "550                              25.375           1637.0   \n",
       "4971                             18.600          24100.0   \n",
       "10760                               NaN              NaN   \n",
       "13157                             0.000           2620.0   \n",
       "18338                             0.000          16300.0   \n",
       "\n",
       "       Total Assets (US Dollars, million)  \\\n",
       "30                               4486.900   \n",
       "550                               485.568   \n",
       "4971                             4077.200   \n",
       "10760                                 NaN   \n",
       "13157                               0.000   \n",
       "18338                               0.000   \n",
       "\n",
       "                                  Primary Industry  \n",
       "30     Handtool, Cutlery, & Flatware Manufacturing  \n",
       "550         Transportation Equipment Manufacturing  \n",
       "4971                           Commercial Printing  \n",
       "10760                   Meat Product Manufacturing  \n",
       "13157                 HVAC Equipment Manufacturing  \n",
       "18338                      Furniture Manufacturing  "
      ]
     },
     "execution_count": 22,
     "metadata": {},
     "output_type": "execute_result"
    }
   ],
   "source": [
    "df[df['Facility Size (sq Ft)'] > 1500000]"
   ]
  },
  {
   "cell_type": "code",
   "execution_count": 28,
   "metadata": {
    "collapsed": false
   },
   "outputs": [
    {
     "data": {
      "text/html": [
       "<div>\n",
       "<table border=\"1\" class=\"dataframe\">\n",
       "  <thead>\n",
       "    <tr style=\"text-align: right;\">\n",
       "      <th></th>\n",
       "      <th>Company Name</th>\n",
       "      <th>Line Of Business</th>\n",
       "      <th>Owns Rents</th>\n",
       "      <th>Facility Size (sq Ft)</th>\n",
       "      <th>Is Importer</th>\n",
       "      <th>Is Exporter</th>\n",
       "      <th>Is Manufacturing</th>\n",
       "      <th>Is Women Owned</th>\n",
       "      <th>Is Minority Owned</th>\n",
       "      <th>Revenue (US Dollars, million)</th>\n",
       "      <th>Net Income (US Dollars, million)</th>\n",
       "      <th>Total Employees</th>\n",
       "      <th>Total Assets (US Dollars, million)</th>\n",
       "      <th>Primary Industry</th>\n",
       "    </tr>\n",
       "  </thead>\n",
       "  <tbody>\n",
       "    <tr>\n",
       "      <th>592</th>\n",
       "      <td>JOHNSON CONTROLS, INC.</td>\n",
       "      <td>Public building and related furniture, ns</td>\n",
       "      <td>NaN</td>\n",
       "      <td>34564.0</td>\n",
       "      <td>Yes</td>\n",
       "      <td>Yes</td>\n",
       "      <td>Yes</td>\n",
       "      <td>No</td>\n",
       "      <td>No</td>\n",
       "      <td>37179.000000</td>\n",
       "      <td>1563.000</td>\n",
       "      <td>139000.0</td>\n",
       "      <td>29673.000</td>\n",
       "      <td>Automobile Parts Manufacturing</td>\n",
       "    </tr>\n",
       "    <tr>\n",
       "      <th>593</th>\n",
       "      <td>Rockwell Automation, Inc.</td>\n",
       "      <td>Relays and industrial controls, nsk</td>\n",
       "      <td>Owns</td>\n",
       "      <td>15782.0</td>\n",
       "      <td>Yes</td>\n",
       "      <td>No</td>\n",
       "      <td>Yes</td>\n",
       "      <td>No</td>\n",
       "      <td>No</td>\n",
       "      <td>6307.900000</td>\n",
       "      <td>827.600</td>\n",
       "      <td>22500.0</td>\n",
       "      <td>6404.700</td>\n",
       "      <td>Industrial Control Products Manufacturing</td>\n",
       "    </tr>\n",
       "    <tr>\n",
       "      <th>594</th>\n",
       "      <td>HARLEY-DAVIDSON, INC.</td>\n",
       "      <td>Motorcycles, bicycles, and parts, nsk</td>\n",
       "      <td>Owns</td>\n",
       "      <td>515000.0</td>\n",
       "      <td>Yes</td>\n",
       "      <td>Yes</td>\n",
       "      <td>Yes</td>\n",
       "      <td>No</td>\n",
       "      <td>No</td>\n",
       "      <td>5995.402000</td>\n",
       "      <td>752.207</td>\n",
       "      <td>6300.0</td>\n",
       "      <td>9991.167</td>\n",
       "      <td>Motorcycle Manufacturing</td>\n",
       "    </tr>\n",
       "    <tr>\n",
       "      <th>3190</th>\n",
       "      <td>S. C. JOHNSON &amp; SON, INC.</td>\n",
       "      <td>Polishes and sanitation goods</td>\n",
       "      <td>NaN</td>\n",
       "      <td>23103.0</td>\n",
       "      <td>Yes</td>\n",
       "      <td>Yes</td>\n",
       "      <td>Yes</td>\n",
       "      <td>No</td>\n",
       "      <td>No</td>\n",
       "      <td>9400.000000</td>\n",
       "      <td>0.000</td>\n",
       "      <td>12000.0</td>\n",
       "      <td>0.000</td>\n",
       "      <td>Soap &amp; Other Detergent Manufacturing</td>\n",
       "    </tr>\n",
       "    <tr>\n",
       "      <th>11510</th>\n",
       "      <td>MENARD, INC.</td>\n",
       "      <td>Millwork, nsk</td>\n",
       "      <td>Owns</td>\n",
       "      <td>1000000.0</td>\n",
       "      <td>Yes</td>\n",
       "      <td>Yes</td>\n",
       "      <td>Yes</td>\n",
       "      <td>No</td>\n",
       "      <td>No</td>\n",
       "      <td>7600.000000</td>\n",
       "      <td>0.000</td>\n",
       "      <td>40000.0</td>\n",
       "      <td>0.000</td>\n",
       "      <td>Home Centers &amp; Hardware Stores</td>\n",
       "    </tr>\n",
       "    <tr>\n",
       "      <th>18338</th>\n",
       "      <td>ASHLEY FURNITURE INDUSTRIES, INC.</td>\n",
       "      <td>Wood household furniture, nsk</td>\n",
       "      <td>Owns</td>\n",
       "      <td>2000000.0</td>\n",
       "      <td>Yes</td>\n",
       "      <td>Yes</td>\n",
       "      <td>Yes</td>\n",
       "      <td>No</td>\n",
       "      <td>No</td>\n",
       "      <td>5088.807004</td>\n",
       "      <td>0.000</td>\n",
       "      <td>16300.0</td>\n",
       "      <td>0.000</td>\n",
       "      <td>Furniture Manufacturing</td>\n",
       "    </tr>\n",
       "    <tr>\n",
       "      <th>18992</th>\n",
       "      <td>Oshkosh Corporation</td>\n",
       "      <td>Motor vehicles and car bodies</td>\n",
       "      <td>Owns</td>\n",
       "      <td>15944.0</td>\n",
       "      <td>No</td>\n",
       "      <td>No</td>\n",
       "      <td>Yes</td>\n",
       "      <td>No</td>\n",
       "      <td>No</td>\n",
       "      <td>6098.100000</td>\n",
       "      <td>229.500</td>\n",
       "      <td>13300.0</td>\n",
       "      <td>4613.000</td>\n",
       "      <td>Truck &amp; Bus Manufacturing</td>\n",
       "    </tr>\n",
       "  </tbody>\n",
       "</table>\n",
       "</div>"
      ],
      "text/plain": [
       "                            Company Name  \\\n",
       "592               JOHNSON CONTROLS, INC.   \n",
       "593            Rockwell Automation, Inc.   \n",
       "594                HARLEY-DAVIDSON, INC.   \n",
       "3190           S. C. JOHNSON & SON, INC.   \n",
       "11510                       MENARD, INC.   \n",
       "18338  ASHLEY FURNITURE INDUSTRIES, INC.   \n",
       "18992                Oshkosh Corporation   \n",
       "\n",
       "                                Line Of Business Owns Rents  \\\n",
       "592    Public building and related furniture, ns        NaN   \n",
       "593          Relays and industrial controls, nsk       Owns   \n",
       "594        Motorcycles, bicycles, and parts, nsk       Owns   \n",
       "3190               Polishes and sanitation goods        NaN   \n",
       "11510                              Millwork, nsk       Owns   \n",
       "18338              Wood household furniture, nsk       Owns   \n",
       "18992              Motor vehicles and car bodies       Owns   \n",
       "\n",
       "       Facility Size (sq Ft) Is Importer Is Exporter Is Manufacturing  \\\n",
       "592                  34564.0         Yes         Yes              Yes   \n",
       "593                  15782.0         Yes          No              Yes   \n",
       "594                 515000.0         Yes         Yes              Yes   \n",
       "3190                 23103.0         Yes         Yes              Yes   \n",
       "11510              1000000.0         Yes         Yes              Yes   \n",
       "18338              2000000.0         Yes         Yes              Yes   \n",
       "18992                15944.0          No          No              Yes   \n",
       "\n",
       "      Is Women Owned Is Minority Owned  Revenue (US Dollars, million)  \\\n",
       "592               No                No                   37179.000000   \n",
       "593               No                No                    6307.900000   \n",
       "594               No                No                    5995.402000   \n",
       "3190              No                No                    9400.000000   \n",
       "11510             No                No                    7600.000000   \n",
       "18338             No                No                    5088.807004   \n",
       "18992             No                No                    6098.100000   \n",
       "\n",
       "       Net Income (US Dollars, million)  Total Employees  \\\n",
       "592                            1563.000         139000.0   \n",
       "593                             827.600          22500.0   \n",
       "594                             752.207           6300.0   \n",
       "3190                              0.000          12000.0   \n",
       "11510                             0.000          40000.0   \n",
       "18338                             0.000          16300.0   \n",
       "18992                           229.500          13300.0   \n",
       "\n",
       "       Total Assets (US Dollars, million)  \\\n",
       "592                             29673.000   \n",
       "593                              6404.700   \n",
       "594                              9991.167   \n",
       "3190                                0.000   \n",
       "11510                               0.000   \n",
       "18338                               0.000   \n",
       "18992                            4613.000   \n",
       "\n",
       "                                Primary Industry  \n",
       "592               Automobile Parts Manufacturing  \n",
       "593    Industrial Control Products Manufacturing  \n",
       "594                    Motorcycle Manufacturing   \n",
       "3190        Soap & Other Detergent Manufacturing  \n",
       "11510             Home Centers & Hardware Stores  \n",
       "18338                    Furniture Manufacturing  \n",
       "18992                  Truck & Bus Manufacturing  "
      ]
     },
     "execution_count": 28,
     "metadata": {},
     "output_type": "execute_result"
    }
   ],
   "source": [
    "df[df['Revenue (US Dollars, million)'] > 5000]"
   ]
  },
  {
   "cell_type": "code",
   "execution_count": 32,
   "metadata": {
    "collapsed": false,
    "scrolled": true
   },
   "outputs": [
    {
     "data": {
      "text/html": [
       "<div>\n",
       "<table border=\"1\" class=\"dataframe\">\n",
       "  <thead>\n",
       "    <tr style=\"text-align: right;\">\n",
       "      <th></th>\n",
       "      <th>Company Name</th>\n",
       "      <th>Line Of Business</th>\n",
       "      <th>Owns Rents</th>\n",
       "      <th>Facility Size (sq Ft)</th>\n",
       "      <th>Is Importer</th>\n",
       "      <th>Is Exporter</th>\n",
       "      <th>Is Manufacturing</th>\n",
       "      <th>Is Women Owned</th>\n",
       "      <th>Is Minority Owned</th>\n",
       "      <th>Revenue (US Dollars, million)</th>\n",
       "      <th>Net Income (US Dollars, million)</th>\n",
       "      <th>Total Employees</th>\n",
       "      <th>Total Assets (US Dollars, million)</th>\n",
       "      <th>Primary Industry</th>\n",
       "    </tr>\n",
       "  </thead>\n",
       "  <tbody>\n",
       "    <tr>\n",
       "      <th>592</th>\n",
       "      <td>JOHNSON CONTROLS, INC.</td>\n",
       "      <td>Public building and related furniture, ns</td>\n",
       "      <td>NaN</td>\n",
       "      <td>34564.0</td>\n",
       "      <td>Yes</td>\n",
       "      <td>Yes</td>\n",
       "      <td>Yes</td>\n",
       "      <td>No</td>\n",
       "      <td>No</td>\n",
       "      <td>37179.0</td>\n",
       "      <td>1563.0</td>\n",
       "      <td>139000.0</td>\n",
       "      <td>29673.0</td>\n",
       "      <td>Automobile Parts Manufacturing</td>\n",
       "    </tr>\n",
       "    <tr>\n",
       "      <th>593</th>\n",
       "      <td>Rockwell Automation, Inc.</td>\n",
       "      <td>Relays and industrial controls, nsk</td>\n",
       "      <td>Owns</td>\n",
       "      <td>15782.0</td>\n",
       "      <td>Yes</td>\n",
       "      <td>No</td>\n",
       "      <td>Yes</td>\n",
       "      <td>No</td>\n",
       "      <td>No</td>\n",
       "      <td>6307.9</td>\n",
       "      <td>827.6</td>\n",
       "      <td>22500.0</td>\n",
       "      <td>6404.7</td>\n",
       "      <td>Industrial Control Products Manufacturing</td>\n",
       "    </tr>\n",
       "    <tr>\n",
       "      <th>4971</th>\n",
       "      <td>Quad/Graphics Inc.</td>\n",
       "      <td>Commercial printing, lithographic</td>\n",
       "      <td>Owns</td>\n",
       "      <td>1970000.0</td>\n",
       "      <td>Yes</td>\n",
       "      <td>Yes</td>\n",
       "      <td>Yes</td>\n",
       "      <td>No</td>\n",
       "      <td>No</td>\n",
       "      <td>4862.4</td>\n",
       "      <td>18.6</td>\n",
       "      <td>24100.0</td>\n",
       "      <td>4077.2</td>\n",
       "      <td>Commercial Printing</td>\n",
       "    </tr>\n",
       "    <tr>\n",
       "      <th>11510</th>\n",
       "      <td>MENARD, INC.</td>\n",
       "      <td>Millwork, nsk</td>\n",
       "      <td>Owns</td>\n",
       "      <td>1000000.0</td>\n",
       "      <td>Yes</td>\n",
       "      <td>Yes</td>\n",
       "      <td>Yes</td>\n",
       "      <td>No</td>\n",
       "      <td>No</td>\n",
       "      <td>7600.0</td>\n",
       "      <td>0.0</td>\n",
       "      <td>40000.0</td>\n",
       "      <td>0.0</td>\n",
       "      <td>Home Centers &amp; Hardware Stores</td>\n",
       "    </tr>\n",
       "    <tr>\n",
       "      <th>16641</th>\n",
       "      <td>Regal-Beloit Corporation</td>\n",
       "      <td>Motors and generators, nsk</td>\n",
       "      <td>Owns</td>\n",
       "      <td>54000.0</td>\n",
       "      <td>Yes</td>\n",
       "      <td>Yes</td>\n",
       "      <td>Yes</td>\n",
       "      <td>No</td>\n",
       "      <td>No</td>\n",
       "      <td>3257.1</td>\n",
       "      <td>31.0</td>\n",
       "      <td>24100.0</td>\n",
       "      <td>3407.6</td>\n",
       "      <td>Motor &amp; Generator Manufacturing</td>\n",
       "    </tr>\n",
       "    <tr>\n",
       "      <th>17519</th>\n",
       "      <td>Kohler Co.</td>\n",
       "      <td>Metal sanitary ware, nsk</td>\n",
       "      <td>Owns</td>\n",
       "      <td>18488.0</td>\n",
       "      <td>Yes</td>\n",
       "      <td>Yes</td>\n",
       "      <td>Yes</td>\n",
       "      <td>No</td>\n",
       "      <td>No</td>\n",
       "      <td>4680.0</td>\n",
       "      <td>0.0</td>\n",
       "      <td>30000.0</td>\n",
       "      <td>0.0</td>\n",
       "      <td>China &amp; Earthenware Plumbing Fixture Manufactu...</td>\n",
       "    </tr>\n",
       "  </tbody>\n",
       "</table>\n",
       "</div>"
      ],
      "text/plain": [
       "                    Company Name                           Line Of Business  \\\n",
       "592       JOHNSON CONTROLS, INC.  Public building and related furniture, ns   \n",
       "593    Rockwell Automation, Inc.        Relays and industrial controls, nsk   \n",
       "4971          Quad/Graphics Inc.          Commercial printing, lithographic   \n",
       "11510               MENARD, INC.                              Millwork, nsk   \n",
       "16641   Regal-Beloit Corporation                 Motors and generators, nsk   \n",
       "17519                 Kohler Co.                   Metal sanitary ware, nsk   \n",
       "\n",
       "      Owns Rents  Facility Size (sq Ft) Is Importer Is Exporter  \\\n",
       "592          NaN                34564.0         Yes         Yes   \n",
       "593         Owns                15782.0         Yes          No   \n",
       "4971        Owns              1970000.0         Yes         Yes   \n",
       "11510       Owns              1000000.0         Yes         Yes   \n",
       "16641       Owns                54000.0         Yes         Yes   \n",
       "17519       Owns                18488.0         Yes         Yes   \n",
       "\n",
       "      Is Manufacturing Is Women Owned Is Minority Owned  \\\n",
       "592                Yes             No                No   \n",
       "593                Yes             No                No   \n",
       "4971               Yes             No                No   \n",
       "11510              Yes             No                No   \n",
       "16641              Yes             No                No   \n",
       "17519              Yes             No                No   \n",
       "\n",
       "       Revenue (US Dollars, million)  Net Income (US Dollars, million)  \\\n",
       "592                          37179.0                            1563.0   \n",
       "593                           6307.9                             827.6   \n",
       "4971                          4862.4                              18.6   \n",
       "11510                         7600.0                               0.0   \n",
       "16641                         3257.1                              31.0   \n",
       "17519                         4680.0                               0.0   \n",
       "\n",
       "       Total Employees  Total Assets (US Dollars, million)  \\\n",
       "592           139000.0                             29673.0   \n",
       "593            22500.0                              6404.7   \n",
       "4971           24100.0                              4077.2   \n",
       "11510          40000.0                                 0.0   \n",
       "16641          24100.0                              3407.6   \n",
       "17519          30000.0                                 0.0   \n",
       "\n",
       "                                        Primary Industry  \n",
       "592                       Automobile Parts Manufacturing  \n",
       "593            Industrial Control Products Manufacturing  \n",
       "4971                                 Commercial Printing  \n",
       "11510                     Home Centers & Hardware Stores  \n",
       "16641                    Motor & Generator Manufacturing  \n",
       "17519  China & Earthenware Plumbing Fixture Manufactu...  "
      ]
     },
     "execution_count": 32,
     "metadata": {},
     "output_type": "execute_result"
    }
   ],
   "source": [
    "df[df['Total Employees'] > 20000]"
   ]
  },
  {
   "cell_type": "markdown",
   "metadata": {},
   "source": [
    "As you look at the high outliers, more of them become exporters, so these are probalby important to keep for the model."
   ]
  },
  {
   "cell_type": "code",
   "execution_count": 39,
   "metadata": {
    "collapsed": false,
    "scrolled": true
   },
   "outputs": [
    {
     "name": "stderr",
     "output_type": "stream",
     "text": [
      "C:\\Users\\asduser\\AppData\\Local\\Continuum\\Anaconda3\\lib\\site-packages\\ipykernel\\__main__.py:2: SettingWithCopyWarning: \n",
      "A value is trying to be set on a copy of a slice from a DataFrame.\n",
      "Try using .loc[row_indexer,col_indexer] = value instead\n",
      "\n",
      "See the caveats in the documentation: http://pandas.pydata.org/pandas-docs/stable/indexing.html#indexing-view-versus-copy\n",
      "  from ipykernel import kernelapp as app\n",
      "C:\\Users\\asduser\\AppData\\Local\\Continuum\\Anaconda3\\lib\\site-packages\\ipykernel\\__main__.py:3: SettingWithCopyWarning: \n",
      "A value is trying to be set on a copy of a slice from a DataFrame.\n",
      "Try using .loc[row_indexer,col_indexer] = value instead\n",
      "\n",
      "See the caveats in the documentation: http://pandas.pydata.org/pandas-docs/stable/indexing.html#indexing-view-versus-copy\n",
      "  app.launch_new_instance()\n",
      "C:\\Users\\asduser\\AppData\\Local\\Continuum\\Anaconda3\\lib\\site-packages\\ipykernel\\__main__.py:4: SettingWithCopyWarning: \n",
      "A value is trying to be set on a copy of a slice from a DataFrame.\n",
      "Try using .loc[row_indexer,col_indexer] = value instead\n",
      "\n",
      "See the caveats in the documentation: http://pandas.pydata.org/pandas-docs/stable/indexing.html#indexing-view-versus-copy\n",
      "C:\\Users\\asduser\\AppData\\Local\\Continuum\\Anaconda3\\lib\\site-packages\\ipykernel\\__main__.py:5: SettingWithCopyWarning: \n",
      "A value is trying to be set on a copy of a slice from a DataFrame.\n",
      "Try using .loc[row_indexer,col_indexer] = value instead\n",
      "\n",
      "See the caveats in the documentation: http://pandas.pydata.org/pandas-docs/stable/indexing.html#indexing-view-versus-copy\n",
      "C:\\Users\\asduser\\AppData\\Local\\Continuum\\Anaconda3\\lib\\site-packages\\ipykernel\\__main__.py:6: SettingWithCopyWarning: \n",
      "A value is trying to be set on a copy of a slice from a DataFrame.\n",
      "Try using .loc[row_indexer,col_indexer] = value instead\n",
      "\n",
      "See the caveats in the documentation: http://pandas.pydata.org/pandas-docs/stable/indexing.html#indexing-view-versus-copy\n",
      "C:\\Users\\asduser\\AppData\\Local\\Continuum\\Anaconda3\\lib\\site-packages\\ipykernel\\__main__.py:7: SettingWithCopyWarning: \n",
      "A value is trying to be set on a copy of a slice from a DataFrame.\n",
      "Try using .loc[row_indexer,col_indexer] = value instead\n",
      "\n",
      "See the caveats in the documentation: http://pandas.pydata.org/pandas-docs/stable/indexing.html#indexing-view-versus-copy\n"
     ]
    }
   ],
   "source": [
    "# let's go ahdead and make those yes/no columns into categories\n",
    "df['Is Exporter'] = df['Is Exporter'].astype('category')\n",
    "df['Is Women Owned'] = df['Is Women Owned'].astype('category')\n",
    "df['Is Minority Owned'] = df['Is Minority Owned'].astype('category')\n",
    "df['Owns Rents'] = df['Owns Rents'].astype('category')\n",
    "df['Is Importer'] = df['Is Importer'].astype('category')\n",
    "df['Is Manufacturing'] = df['Is Manufacturing'].astype('category')"
   ]
  },
  {
   "cell_type": "markdown",
   "metadata": {},
   "source": [
    "## Visualization and Cleaning\n",
    " \n",
    " As I look through the data some questions to consider:\n",
    "\n",
    "    Can you count something interesting?\n",
    "\n",
    "    Can you find some trends (high, low, increase, decrease, anomalies)?\n",
    "\n",
    "    Can you make a bar plot or a histogram?\n",
    "\n",
    "    Can you compare two related quantities?\n",
    "\n",
    "    Can you make a scatterplot?\n"
   ]
  },
  {
   "cell_type": "code",
   "execution_count": 86,
   "metadata": {
    "collapsed": false
   },
   "outputs": [
    {
     "data": {
      "text/plain": [
       "<matplotlib.axes._subplots.AxesSubplot at 0x12944c50>"
      ]
     },
     "execution_count": 86,
     "metadata": {},
     "output_type": "execute_result"
    },
    {
     "data": {
      "image/png": "[encoded data removed]",
      "text/plain": [
       "<matplotlib.figure.Figure at 0x13da3b70>"
      ]
     },
     "metadata": {},
     "output_type": "display_data"
    }
   ],
   "source": [
    "df.boxplot(column='Facility Size (sq Ft)', by='Is Exporter')"
   ]
  },
  {
   "cell_type": "code",
   "execution_count": 87,
   "metadata": {
    "collapsed": false
   },
   "outputs": [
    {
     "data": {
      "text/plain": [
       "<matplotlib.axes._subplots.AxesSubplot at 0x138150f0>"
      ]
     },
     "execution_count": 87,
     "metadata": {},
     "output_type": "execute_result"
    },
    {
     "data": {
      "image/png": "[encoded data removed]",
      "text/plain": [
       "<matplotlib.figure.Figure at 0x1387ef98>"
      ]
     },
     "metadata": {},
     "output_type": "display_data"
    }
   ],
   "source": [
    "df.boxplot(column='Facility Size (sq Ft)', by='Is Importer')"
   ]
  },
  {
   "cell_type": "markdown",
   "metadata": {},
   "source": [
    "Note the similar shape here in facility size and export vs import. This may be indicate that Importers may also tend to be Exporters."
   ]
  },
  {
   "cell_type": "code",
   "execution_count": 51,
   "metadata": {
    "collapsed": false
   },
   "outputs": [],
   "source": [
    "df = df.drop(df.index[[10451,14465,14670,15838,19537]]) #These facility sizes were zero and were either mostly void of useful data or apperaed to be wrong"
   ]
  },
  {
   "cell_type": "code",
   "execution_count": 88,
   "metadata": {
    "collapsed": false
   },
   "outputs": [
    {
     "data": {
      "image/png": "[encoded data removed]",
      "text/plain": [
       "<matplotlib.figure.Figure at 0x13a99eb8>"
      ]
     },
     "metadata": {},
     "output_type": "display_data"
    }
   ],
   "source": [
    "plt.hist(df['Revenue (US Dollars, million)'].dropna(),bins=50, range = [0, 10])\n",
    "plt.xlabel('Revenue (US Dollars, million)')\n",
    "plt.ylabel('Count')\n",
    "plt.show()"
   ]
  },
  {
   "cell_type": "code",
   "execution_count": 89,
   "metadata": {
    "collapsed": false
   },
   "outputs": [
    {
     "data": {
      "image/png": "[encoded data removed]",
      "text/plain": [
       "<matplotlib.figure.Figure at 0x161beda0>"
      ]
     },
     "metadata": {},
     "output_type": "display_data"
    }
   ],
   "source": [
    "plt.hist(df['Facility Size (sq Ft)'].dropna(),bins=50, range = [0,100000])\n",
    "plt.xlabel('Facility Size (sq Ft)')\n",
    "plt.ylabel('Count')\n",
    "plt.show()"
   ]
  },
  {
   "cell_type": "code",
   "execution_count": 90,
   "metadata": {
    "collapsed": false
   },
   "outputs": [
    {
     "data": {
      "image/png": "[encoded data removed]",
      "text/plain": [
       "<matplotlib.figure.Figure at 0x1600bc50>"
      ]
     },
     "metadata": {},
     "output_type": "display_data"
    }
   ],
   "source": [
    "plt.hist(df['Total Employees'].dropna(),bins=50, range = [0,300])\n",
    "plt.xlabel('Total Employees')\n",
    "plt.ylabel('Count')\n",
    "plt.show()"
   ]
  },
  {
   "cell_type": "markdown",
   "metadata": {},
   "source": [
    "Again you can visually see that the majority of companies are \"small\" in all these categories."
   ]
  },
  {
   "cell_type": "code",
   "execution_count": 91,
   "metadata": {
    "collapsed": false
   },
   "outputs": [
    {
     "data": {
      "text/plain": [
       "<matplotlib.axes._subplots.AxesSubplot at 0x1665dc88>"
      ]
     },
     "execution_count": 91,
     "metadata": {},
     "output_type": "execute_result"
    },
    {
     "data": {
      "image/png": "[encoded data removed]",
      "text/plain": [
       "<matplotlib.figure.Figure at 0x1631e5c0>"
      ]
     },
     "metadata": {},
     "output_type": "display_data"
    }
   ],
   "source": [
    "sns.regplot(y=df['Revenue (US Dollars, million)'], x=df['Facility Size (sq Ft)'], fit_reg = True)"
   ]
  },
  {
   "cell_type": "code",
   "execution_count": 92,
   "metadata": {
    "collapsed": false
   },
   "outputs": [
    {
     "data": {
      "text/plain": [
       "<matplotlib.axes._subplots.AxesSubplot at 0x163eacf8>"
      ]
     },
     "execution_count": 92,
     "metadata": {},
     "output_type": "execute_result"
    },
    {
     "data": {
      "image/png": "[encoded data removed]",
      "text/plain": [
       "<matplotlib.figure.Figure at 0x165bea90>"
      ]
     },
     "metadata": {},
     "output_type": "display_data"
    }
   ],
   "source": [
    "sns.regplot(y=df['Revenue (US Dollars, million)'], x=df['Total Employees'], fit_reg = True)"
   ]
  },
  {
   "cell_type": "code",
   "execution_count": 82,
   "metadata": {
    "collapsed": true
   },
   "outputs": [],
   "source": [
    "mask = ~np.isnan(df['Total Employees']) & ~np.isnan(df['Revenue (US Dollars, million)'])\n",
    "slope, intercept, r_value, p_value, std_err = stats.linregress(df['Total Employees'][mask], df['Revenue (US Dollars, million)'][mask])"
   ]
  },
  {
   "cell_type": "code",
   "execution_count": 83,
   "metadata": {
    "collapsed": false
   },
   "outputs": [
    {
     "name": "stdout",
     "output_type": "stream",
     "text": [
      "Revenue = 0.257081744012*Employees + -1.14749808441\n"
     ]
    }
   ],
   "source": [
    "print('Revenue = ' + str(slope) + '*Employees + ' + str(intercept))"
   ]
  },
  {
   "cell_type": "markdown",
   "metadata": {},
   "source": [
    "## Comparing by export and productivity"
   ]
  },
  {
   "cell_type": "code",
   "execution_count": 97,
   "metadata": {
    "collapsed": true
   },
   "outputs": [],
   "source": [
    "df = df.drop('Line Of Business',axis = 1)\n",
    "df_binary = pd.get_dummies(df)"
   ]
  },
  {
   "cell_type": "code",
   "execution_count": 105,
   "metadata": {
    "collapsed": false
   },
   "outputs": [
    {
     "data": {
      "text/html": [
       "<div>\n",
       "<table border=\"1\" class=\"dataframe\">\n",
       "  <thead>\n",
       "    <tr style=\"text-align: right;\">\n",
       "      <th></th>\n",
       "      <th>Facility Size (sq Ft)</th>\n",
       "      <th>Revenue (US Dollars, million)</th>\n",
       "      <th>Net Income (US Dollars, million)</th>\n",
       "      <th>Total Employees</th>\n",
       "      <th>Total Assets (US Dollars, million)</th>\n",
       "      <th>Owns Rents_Owns</th>\n",
       "      <th>Is Importer_Yes</th>\n",
       "      <th>Is Exporter_Yes</th>\n",
       "      <th>Is Manufacturing_Yes</th>\n",
       "      <th>Is Women Owned_Yes</th>\n",
       "      <th>Is Minority Owned_Yes</th>\n",
       "    </tr>\n",
       "  </thead>\n",
       "  <tbody>\n",
       "    <tr>\n",
       "      <th>0</th>\n",
       "      <td>10000.0</td>\n",
       "      <td>1.400000</td>\n",
       "      <td>0.0</td>\n",
       "      <td>15.0</td>\n",
       "      <td>0.0</td>\n",
       "      <td>1</td>\n",
       "      <td>0</td>\n",
       "      <td>0</td>\n",
       "      <td>1</td>\n",
       "      <td>0</td>\n",
       "      <td>0</td>\n",
       "    </tr>\n",
       "    <tr>\n",
       "      <th>1</th>\n",
       "      <td>11000.0</td>\n",
       "      <td>1.400000</td>\n",
       "      <td>0.0</td>\n",
       "      <td>12.0</td>\n",
       "      <td>0.0</td>\n",
       "      <td>0</td>\n",
       "      <td>0</td>\n",
       "      <td>0</td>\n",
       "      <td>1</td>\n",
       "      <td>0</td>\n",
       "      <td>0</td>\n",
       "    </tr>\n",
       "    <tr>\n",
       "      <th>2</th>\n",
       "      <td>11500.0</td>\n",
       "      <td>1.400000</td>\n",
       "      <td>0.0</td>\n",
       "      <td>17.0</td>\n",
       "      <td>0.0</td>\n",
       "      <td>0</td>\n",
       "      <td>1</td>\n",
       "      <td>0</td>\n",
       "      <td>1</td>\n",
       "      <td>1</td>\n",
       "      <td>0</td>\n",
       "    </tr>\n",
       "    <tr>\n",
       "      <th>3</th>\n",
       "      <td>11178.0</td>\n",
       "      <td>1.334543</td>\n",
       "      <td>0.0</td>\n",
       "      <td>NaN</td>\n",
       "      <td>0.0</td>\n",
       "      <td>0</td>\n",
       "      <td>0</td>\n",
       "      <td>0</td>\n",
       "      <td>1</td>\n",
       "      <td>0</td>\n",
       "      <td>0</td>\n",
       "    </tr>\n",
       "    <tr>\n",
       "      <th>4</th>\n",
       "      <td>8335.0</td>\n",
       "      <td>1.500000</td>\n",
       "      <td>0.0</td>\n",
       "      <td>20.0</td>\n",
       "      <td>0.0</td>\n",
       "      <td>1</td>\n",
       "      <td>0</td>\n",
       "      <td>0</td>\n",
       "      <td>1</td>\n",
       "      <td>0</td>\n",
       "      <td>0</td>\n",
       "    </tr>\n",
       "  </tbody>\n",
       "</table>\n",
       "</div>"
      ],
      "text/plain": [
       "   Facility Size (sq Ft)  Revenue (US Dollars, million)  \\\n",
       "0                10000.0                       1.400000   \n",
       "1                11000.0                       1.400000   \n",
       "2                11500.0                       1.400000   \n",
       "3                11178.0                       1.334543   \n",
       "4                 8335.0                       1.500000   \n",
       "\n",
       "   Net Income (US Dollars, million)  Total Employees  \\\n",
       "0                               0.0             15.0   \n",
       "1                               0.0             12.0   \n",
       "2                               0.0             17.0   \n",
       "3                               0.0              NaN   \n",
       "4                               0.0             20.0   \n",
       "\n",
       "   Total Assets (US Dollars, million)  Owns Rents_Owns  Is Importer_Yes  \\\n",
       "0                                 0.0                1                0   \n",
       "1                                 0.0                0                0   \n",
       "2                                 0.0                0                1   \n",
       "3                                 0.0                0                0   \n",
       "4                                 0.0                1                0   \n",
       "\n",
       "   Is Exporter_Yes  Is Manufacturing_Yes  Is Women Owned_Yes  \\\n",
       "0                0                     1                   0   \n",
       "1                0                     1                   0   \n",
       "2                0                     1                   1   \n",
       "3                0                     1                   0   \n",
       "4                0                     1                   0   \n",
       "\n",
       "   Is Minority Owned_Yes  \n",
       "0                      0  \n",
       "1                      0  \n",
       "2                      0  \n",
       "3                      0  \n",
       "4                      0  "
      ]
     },
     "execution_count": 105,
     "metadata": {},
     "output_type": "execute_result"
    }
   ],
   "source": [
    "df_binary = df_binary.drop(['Owns Rents_Rents',  'Is Importer_No', 'Is Exporter_No','Is Manufacturing_No', 'Is Women Owned_No','Is Minority Owned_No'],axis = 1)\n",
    "df_binary.head()"
   ]
  },
  {
   "cell_type": "code",
   "execution_count": 106,
   "metadata": {
    "collapsed": false
   },
   "outputs": [
    {
     "data": {
      "text/plain": [
       "<matplotlib.axes._subplots.AxesSubplot at 0x13c50518>"
      ]
     },
     "execution_count": 106,
     "metadata": {},
     "output_type": "execute_result"
    },
    {
     "data": {
      "image/png": "[encoded data removed]",
      "text/plain": [
       "<matplotlib.figure.Figure at 0x13c51e48>"
      ]
     },
     "metadata": {},
     "output_type": "display_data"
    }
   ],
   "source": [
    "sns.regplot(y=df_binary['Is Exporter_Yes'], x=df_binary['Revenue (US Dollars, million)'], fit_reg = False)"
   ]
  },
  {
   "cell_type": "code",
   "execution_count": 107,
   "metadata": {
    "collapsed": false
   },
   "outputs": [
    {
     "data": {
      "text/plain": [
       "<matplotlib.axes._subplots.AxesSubplot at 0x13c9a470>"
      ]
     },
     "execution_count": 107,
     "metadata": {},
     "output_type": "execute_result"
    },
    {
     "data": {
      "image/png": "[encoded data removed]",
      "text/plain": [
       "<matplotlib.figure.Figure at 0x13ca3cf8>"
      ]
     },
     "metadata": {},
     "output_type": "display_data"
    }
   ],
   "source": [
    "sns.regplot(y=df_binary['Is Exporter_Yes'], x=df_binary['Facility Size (sq Ft)'], fit_reg = False)"
   ]
  },
  {
   "cell_type": "code",
   "execution_count": 108,
   "metadata": {
    "collapsed": false
   },
   "outputs": [
    {
     "data": {
      "text/plain": [
       "<matplotlib.axes._subplots.AxesSubplot at 0x13ce3320>"
      ]
     },
     "execution_count": 108,
     "metadata": {},
     "output_type": "execute_result"
    },
    {
     "data": {
      "image/png": "[encoded data removed]",
      "text/plain": [
       "<matplotlib.figure.Figure at 0x15ee12e8>"
      ]
     },
     "metadata": {},
     "output_type": "display_data"
    }
   ],
   "source": [
    "sns.regplot(y=df_binary['Is Exporter_Yes'], x=df_binary['Total Employees'], fit_reg = False)"
   ]
  },
  {
   "cell_type": "markdown",
   "metadata": {},
   "source": [
    "Looking at this there does appear to be a shift to the right (higher value) in these three categories for exporters over non-exporters. Now let's look at some measures of productivity."
   ]
  },
  {
   "cell_type": "code",
   "execution_count": 111,
   "metadata": {
    "collapsed": false
   },
   "outputs": [],
   "source": [
    "#Creating the comparisson values: Revenue per sqFt, Revenue per employee, and SqFt per Employee\n",
    "RevPerEm = df_binary['Revenue (US Dollars, million)']/df_binary['Total Employees']\n",
    "RevPerSq =df_binary['Revenue (US Dollars, million)']/df_binary['Facility Size (sq Ft)']\n",
    "SqPerEm = df_binary['Facility Size (sq Ft)']/df_binary['Total Employees']"
   ]
  },
  {
   "cell_type": "code",
   "execution_count": 114,
   "metadata": {
    "collapsed": false
   },
   "outputs": [
    {
     "data": {
      "text/plain": [
       "<matplotlib.axes._subplots.AxesSubplot at 0x13cc9a90>"
      ]
     },
     "execution_count": 114,
     "metadata": {},
     "output_type": "execute_result"
    },
    {
     "data": {
      "image/png": "[encoded data removed]",
      "text/plain": [
       "<matplotlib.figure.Figure at 0x13cd4160>"
      ]
     },
     "metadata": {},
     "output_type": "display_data"
    }
   ],
   "source": [
    "sns.regplot(y=df_binary['Is Exporter_Yes'], x=RevPerEm, fit_reg = False)"
   ]
  },
  {
   "cell_type": "code",
   "execution_count": 115,
   "metadata": {
    "collapsed": false
   },
   "outputs": [
    {
     "data": {
      "text/plain": [
       "<matplotlib.axes._subplots.AxesSubplot at 0x15f9b6d8>"
      ]
     },
     "execution_count": 115,
     "metadata": {},
     "output_type": "execute_result"
    },
    {
     "data": {
      "image/png": "[encoded data removed]",
      "text/plain": [
       "<matplotlib.figure.Figure at 0x16444e10>"
      ]
     },
     "metadata": {},
     "output_type": "display_data"
    }
   ],
   "source": [
    "sns.regplot(y=df_binary['Is Exporter_Yes'], x=RevPerSq, fit_reg = False)"
   ]
  },
  {
   "cell_type": "code",
   "execution_count": 116,
   "metadata": {
    "collapsed": false
   },
   "outputs": [
    {
     "data": {
      "text/plain": [
       "<matplotlib.axes._subplots.AxesSubplot at 0x164cc080>"
      ]
     },
     "execution_count": 116,
     "metadata": {},
     "output_type": "execute_result"
    },
    {
     "data": {
      "image/png": "[encoded data removed]",
      "text/plain": [
       "<matplotlib.figure.Figure at 0x164db470>"
      ]
     },
     "metadata": {},
     "output_type": "display_data"
    }
   ],
   "source": [
    "sns.regplot(y=df_binary['Is Exporter_Yes'], x=SqPerEm, fit_reg = False)"
   ]
  },
  {
   "cell_type": "markdown",
   "metadata": {},
   "source": [
    "# Conclusion\n",
    "\n",
    "The companies in this data set are primarily on the smaller side with a dramatic skew toward the small revenue and employee size, etc.\n",
    "\n",
    "Looking at all these visulaizations, it seems that the most dramatic relationships are between revenue and employees and revenue and facility size. These show up as correlation in the scatterplots and in shifts in the scatter plots.\n",
    "\n",
    "The next step will be to compare the means and other inferential statistics for some of these features."
   ]
  }
 ],
 "metadata": {
  "kernelspec": {
   "display_name": "Python 3",
   "language": "python",
   "name": "python3"
  },
  "language_info": {
   "codemirror_mode": {
    "name": "ipython",
    "version": 3
   },
   "file_extension": ".py",
   "mimetype": "text/x-python",
   "name": "python",
   "nbconvert_exporter": "python",
   "pygments_lexer": "ipython3",
   "version": "3.6.0"
  }
 },
 "nbformat": 4,
 "nbformat_minor": 2
}
