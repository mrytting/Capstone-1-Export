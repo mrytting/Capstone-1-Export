{
 "cells": [
  {
   "cell_type": "markdown",
   "metadata": {},
   "source": [
    "## Preliminary set-up \n",
    "\n",
    "choosing important columns"
   ]
  },
  {
   "cell_type": "code",
   "execution_count": 43,
   "metadata": {
    "collapsed": false
   },
   "outputs": [
    {
     "name": "stdout",
     "output_type": "stream",
     "text": [
      "Populating the interactive namespace from numpy and matplotlib\n"
     ]
    }
   ],
   "source": [
    "import numpy as np\n",
    "import pandas as pd\n",
    "import matplotlib.pyplot as plt\n",
    "import seaborn as sns\n",
    "from scipy import stats\n",
    "%pylab inline\n",
    "#seaborn settings\n",
    "sns.set_palette(\"deep\", desat=.6)\n",
    "sns.set_context(rc={\"figure.figsize\": (8,4)})"
   ]
  },
  {
   "cell_type": "code",
   "execution_count": 2,
   "metadata": {
    "collapsed": false
   },
   "outputs": [
    {
     "data": {
      "text/html": [
       "<div>\n",
       "<table border=\"1\" class=\"dataframe\">\n",
       "  <thead>\n",
       "    <tr style=\"text-align: right;\">\n",
       "      <th></th>\n",
       "      <th>Contact Prefix</th>\n",
       "      <th>Contact First Name</th>\n",
       "      <th>Contact Middle Name</th>\n",
       "      <th>Contact Last Name</th>\n",
       "      <th>Contact Suffix</th>\n",
       "      <th>Contact Title</th>\n",
       "      <th>Age</th>\n",
       "      <th>Salary (US Dollars)</th>\n",
       "      <th>Bonus (US Dollars)</th>\n",
       "      <th>Company Name</th>\n",
       "      <th>...</th>\n",
       "      <th>Bonus (US Dollars)12</th>\n",
       "      <th>Contact Prefix13</th>\n",
       "      <th>Contact First Name13</th>\n",
       "      <th>Contact Middle Name13</th>\n",
       "      <th>Contact Last Name13</th>\n",
       "      <th>Contact Suffix13</th>\n",
       "      <th>Contact Title13</th>\n",
       "      <th>Age13</th>\n",
       "      <th>Salary (US Dollars)13</th>\n",
       "      <th>Bonus (US Dollars)13</th>\n",
       "    </tr>\n",
       "  </thead>\n",
       "  <tbody>\n",
       "    <tr>\n",
       "      <th>0</th>\n",
       "      <td>Mr</td>\n",
       "      <td>Bruce</td>\n",
       "      <td>NaN</td>\n",
       "      <td>Roberts</td>\n",
       "      <td>NaN</td>\n",
       "      <td>Manager</td>\n",
       "      <td>NaN</td>\n",
       "      <td>NaN</td>\n",
       "      <td>YES</td>\n",
       "      <td>Clement Welding &amp; Fabricating Inc</td>\n",
       "      <td>...</td>\n",
       "      <td>NaN</td>\n",
       "      <td>NaN</td>\n",
       "      <td>NaN</td>\n",
       "      <td>NaN</td>\n",
       "      <td>NaN</td>\n",
       "      <td>NaN</td>\n",
       "      <td>NaN</td>\n",
       "      <td>NaN</td>\n",
       "      <td>NaN</td>\n",
       "      <td>NaN</td>\n",
       "    </tr>\n",
       "    <tr>\n",
       "      <th>1</th>\n",
       "      <td>Mr</td>\n",
       "      <td>Jere</td>\n",
       "      <td>NaN</td>\n",
       "      <td>Benedict</td>\n",
       "      <td>NaN</td>\n",
       "      <td>Pres-treas</td>\n",
       "      <td>NaN</td>\n",
       "      <td>NaN</td>\n",
       "      <td>YES</td>\n",
       "      <td>Bencher Inc</td>\n",
       "      <td>...</td>\n",
       "      <td>NaN</td>\n",
       "      <td>NaN</td>\n",
       "      <td>NaN</td>\n",
       "      <td>NaN</td>\n",
       "      <td>NaN</td>\n",
       "      <td>NaN</td>\n",
       "      <td>NaN</td>\n",
       "      <td>NaN</td>\n",
       "      <td>NaN</td>\n",
       "      <td>NaN</td>\n",
       "    </tr>\n",
       "    <tr>\n",
       "      <th>2</th>\n",
       "      <td>NaN</td>\n",
       "      <td>NaN</td>\n",
       "      <td>NaN</td>\n",
       "      <td>NaN</td>\n",
       "      <td>NaN</td>\n",
       "      <td>NaN</td>\n",
       "      <td>NaN</td>\n",
       "      <td>NaN</td>\n",
       "      <td>YES</td>\n",
       "      <td>Pride Abrasive Inc</td>\n",
       "      <td>...</td>\n",
       "      <td>NaN</td>\n",
       "      <td>NaN</td>\n",
       "      <td>NaN</td>\n",
       "      <td>NaN</td>\n",
       "      <td>NaN</td>\n",
       "      <td>NaN</td>\n",
       "      <td>NaN</td>\n",
       "      <td>NaN</td>\n",
       "      <td>NaN</td>\n",
       "      <td>NaN</td>\n",
       "    </tr>\n",
       "    <tr>\n",
       "      <th>3</th>\n",
       "      <td>Mr</td>\n",
       "      <td>Chris</td>\n",
       "      <td>NaN</td>\n",
       "      <td>Clough</td>\n",
       "      <td>NaN</td>\n",
       "      <td>Operations Manager</td>\n",
       "      <td>NaN</td>\n",
       "      <td>NaN</td>\n",
       "      <td>YES</td>\n",
       "      <td>Puratos Corporation</td>\n",
       "      <td>...</td>\n",
       "      <td>NaN</td>\n",
       "      <td>NaN</td>\n",
       "      <td>NaN</td>\n",
       "      <td>NaN</td>\n",
       "      <td>NaN</td>\n",
       "      <td>NaN</td>\n",
       "      <td>NaN</td>\n",
       "      <td>NaN</td>\n",
       "      <td>NaN</td>\n",
       "      <td>NaN</td>\n",
       "    </tr>\n",
       "    <tr>\n",
       "      <th>4</th>\n",
       "      <td>Ms</td>\n",
       "      <td>Ida</td>\n",
       "      <td>NaN</td>\n",
       "      <td>Tenuta</td>\n",
       "      <td>NaN</td>\n",
       "      <td>V Pres</td>\n",
       "      <td>NaN</td>\n",
       "      <td>NaN</td>\n",
       "      <td>YES</td>\n",
       "      <td>A T Polishing Inc</td>\n",
       "      <td>...</td>\n",
       "      <td>NaN</td>\n",
       "      <td>NaN</td>\n",
       "      <td>NaN</td>\n",
       "      <td>NaN</td>\n",
       "      <td>NaN</td>\n",
       "      <td>NaN</td>\n",
       "      <td>NaN</td>\n",
       "      <td>NaN</td>\n",
       "      <td>NaN</td>\n",
       "      <td>NaN</td>\n",
       "    </tr>\n",
       "  </tbody>\n",
       "</table>\n",
       "<p>5 rows × 200 columns</p>\n",
       "</div>"
      ],
      "text/plain": [
       "  Contact Prefix Contact First Name Contact Middle Name Contact Last Name  \\\n",
       "0             Mr              Bruce                 NaN           Roberts   \n",
       "1             Mr               Jere                 NaN          Benedict   \n",
       "2            NaN                NaN                 NaN               NaN   \n",
       "3             Mr              Chris                 NaN            Clough   \n",
       "4             Ms                Ida                 NaN            Tenuta   \n",
       "\n",
       "  Contact Suffix       Contact Title  Age  Salary (US Dollars)  \\\n",
       "0            NaN             Manager  NaN                  NaN   \n",
       "1            NaN          Pres-treas  NaN                  NaN   \n",
       "2            NaN                 NaN  NaN                  NaN   \n",
       "3            NaN  Operations Manager  NaN                  NaN   \n",
       "4            NaN              V Pres  NaN                  NaN   \n",
       "\n",
       "  Bonus (US Dollars)                       Company Name          ...           \\\n",
       "0                YES  Clement Welding & Fabricating Inc          ...            \n",
       "1                YES                        Bencher Inc          ...            \n",
       "2                YES                 Pride Abrasive Inc          ...            \n",
       "3                YES                Puratos Corporation          ...            \n",
       "4                YES                  A T Polishing Inc          ...            \n",
       "\n",
       "  Bonus (US Dollars)12 Contact Prefix13 Contact First Name13  \\\n",
       "0                  NaN              NaN                  NaN   \n",
       "1                  NaN              NaN                  NaN   \n",
       "2                  NaN              NaN                  NaN   \n",
       "3                  NaN              NaN                  NaN   \n",
       "4                  NaN              NaN                  NaN   \n",
       "\n",
       "  Contact Middle Name13 Contact Last Name13  Contact Suffix13  \\\n",
       "0                   NaN                 NaN               NaN   \n",
       "1                   NaN                 NaN               NaN   \n",
       "2                   NaN                 NaN               NaN   \n",
       "3                   NaN                 NaN               NaN   \n",
       "4                   NaN                 NaN               NaN   \n",
       "\n",
       "   Contact Title13 Age13 Salary (US Dollars)13  Bonus (US Dollars)13  \n",
       "0              NaN   NaN                   NaN                   NaN  \n",
       "1              NaN   NaN                   NaN                   NaN  \n",
       "2              NaN   NaN                   NaN                   NaN  \n",
       "3              NaN   NaN                   NaN                   NaN  \n",
       "4              NaN   NaN                   NaN                   NaN  \n",
       "\n",
       "[5 rows x 200 columns]"
      ]
     },
     "execution_count": 2,
     "metadata": {},
     "output_type": "execute_result"
    }
   ],
   "source": [
    "xl = pd.ExcelFile('Copy of WI_Manufacturers316.xlsx')\n",
    "xl.sheet_names\n",
    "\n",
    "[u'Sheet1', u'Sheet2', u'Sheet3']\n",
    "\n",
    "df1 = xl.parse(\"Sheet1\")\n",
    "df1.head()"
   ]
  },
  {
   "cell_type": "code",
   "execution_count": 3,
   "metadata": {
    "collapsed": false
   },
   "outputs": [
    {
     "data": {
      "text/plain": [
       "20065"
      ]
     },
     "execution_count": 3,
     "metadata": {},
     "output_type": "execute_result"
    }
   ],
   "source": [
    "len(df1)"
   ]
  },
  {
   "cell_type": "code",
   "execution_count": 4,
   "metadata": {
    "collapsed": false
   },
   "outputs": [
    {
     "data": {
      "text/plain": [
       "['Contact Prefix',\n",
       " 'Contact First Name',\n",
       " 'Contact Middle Name',\n",
       " 'Contact Last Name',\n",
       " 'Contact Suffix',\n",
       " 'Contact Title',\n",
       " 'Age',\n",
       " 'Salary (US Dollars)',\n",
       " 'Bonus (US Dollars)',\n",
       " 'Company Name',\n",
       " 'Primary Address 1',\n",
       " 'Primary Address 2',\n",
       " 'Primary City',\n",
       " 'Primary County',\n",
       " 'Primary State',\n",
       " 'Primary Zip',\n",
       " 'Primary Zip Extension',\n",
       " 'Primary Country',\n",
       " 'Phone Number',\n",
       " 'Toll-Free Number',\n",
       " 'FAX Number',\n",
       " 'Mailing Address 1',\n",
       " 'Mailing Address 2',\n",
       " 'Mailing City',\n",
       " 'Mailing County',\n",
       " 'Mailing State',\n",
       " 'Mailing Zip',\n",
       " 'Mailing Zip Extension',\n",
       " 'Mailing Country',\n",
       " 'Web Address ',\n",
       " 'Latitude',\n",
       " 'Longitude',\n",
       " 'Line Of Business',\n",
       " 'Owns Rents',\n",
       " 'Facility Size (sq Ft)',\n",
       " 'Is Importer',\n",
       " 'Is Exporter',\n",
       " 'D-U-N-S Number',\n",
       " 'Doing Business As',\n",
       " 'Company Type',\n",
       " 'Is Subsidiary',\n",
       " 'Location Type',\n",
       " 'Exchange',\n",
       " 'Symbol',\n",
       " 'Rankings',\n",
       " 'Ultimate Parent',\n",
       " 'Ultimate Parent D-U-N-S',\n",
       " 'Immediate Parent',\n",
       " 'Immediate Parent D-U-N-S',\n",
       " 'Language Preference',\n",
       " 'Is Manufacturing',\n",
       " 'Is Women Owned',\n",
       " 'Is Minority Owned',\n",
       " 'EIN',\n",
       " 'My Tags',\n",
       " 'Fiscal Year-End',\n",
       " 'Revenue (US Dollars, million)',\n",
       " 'Revenue Growth (%)',\n",
       " 'Net Income (US Dollars, million)',\n",
       " 'Income Growth (%)',\n",
       " 'Total Employees',\n",
       " 'Employee Growth (%)',\n",
       " 'Employees At This Location',\n",
       " 'Total Assets (US Dollars, million)',\n",
       " 'Market Value (US Dollars, million)',\n",
       " 'Auditor',\n",
       " 'Year of Founding',\n",
       " 'D&B Prescreen Score',\n",
       " 'Primary Industry',\n",
       " 'Primary US SIC Code',\n",
       " 'All US SIC Codes',\n",
       " 'Primary US NAICS Code',\n",
       " 'All NAICS Codes',\n",
       " 'Postal Delivery Point',\n",
       " 'Contact Prefix0',\n",
       " 'Contact First Name0',\n",
       " 'Contact Middle Name0',\n",
       " 'Contact Last Name0',\n",
       " 'Contact Suffix0',\n",
       " 'Contact Title0',\n",
       " 'Age0',\n",
       " 'Salary (US Dollars)0',\n",
       " 'Bonus (US Dollars)0',\n",
       " 'Contact Prefix1',\n",
       " 'Contact First Name1',\n",
       " 'Contact Middle Name1',\n",
       " 'Contact Last Name1',\n",
       " 'Contact Suffix1',\n",
       " 'Contact Title1',\n",
       " 'Age1',\n",
       " 'Salary (US Dollars)1',\n",
       " 'Bonus (US Dollars)1',\n",
       " 'Contact Prefix2',\n",
       " 'Contact First Name2',\n",
       " 'Contact Middle Name2',\n",
       " 'Contact Last Name2',\n",
       " 'Contact Suffix2',\n",
       " 'Contact Title2',\n",
       " 'Age2',\n",
       " 'Salary (US Dollars)2',\n",
       " 'Bonus (US Dollars)2',\n",
       " 'Contact Prefix3',\n",
       " 'Contact First Name3',\n",
       " 'Contact Middle Name3',\n",
       " 'Contact Last Name3',\n",
       " 'Contact Suffix3',\n",
       " 'Contact Title3',\n",
       " 'Age3',\n",
       " 'Salary (US Dollars)3',\n",
       " 'Bonus (US Dollars)3',\n",
       " 'Contact Prefix4',\n",
       " 'Contact First Name4',\n",
       " 'Contact Middle Name4',\n",
       " 'Contact Last Name4',\n",
       " 'Contact Suffix4',\n",
       " 'Contact Title4',\n",
       " 'Age4',\n",
       " 'Salary (US Dollars)4',\n",
       " 'Bonus (US Dollars)4',\n",
       " 'Contact Prefix5',\n",
       " 'Contact First Name5',\n",
       " 'Contact Middle Name5',\n",
       " 'Contact Last Name5',\n",
       " 'Contact Suffix5',\n",
       " 'Contact Title5',\n",
       " 'Age5',\n",
       " 'Salary (US Dollars)5',\n",
       " 'Bonus (US Dollars)5',\n",
       " 'Contact Prefix6',\n",
       " 'Contact First Name6',\n",
       " 'Contact Middle Name6',\n",
       " 'Contact Last Name6',\n",
       " 'Contact Suffix6',\n",
       " 'Contact Title6',\n",
       " 'Age6',\n",
       " 'Salary (US Dollars)6',\n",
       " 'Bonus (US Dollars)6',\n",
       " 'Contact Prefix7',\n",
       " 'Contact First Name7',\n",
       " 'Contact Middle Name7',\n",
       " 'Contact Last Name7',\n",
       " 'Contact Suffix7',\n",
       " 'Contact Title7',\n",
       " 'Age7',\n",
       " 'Salary (US Dollars)7',\n",
       " 'Bonus (US Dollars)7',\n",
       " 'Contact Prefix8',\n",
       " 'Contact First Name8',\n",
       " 'Contact Middle Name8',\n",
       " 'Contact Last Name8',\n",
       " 'Contact Suffix8',\n",
       " 'Contact Title8',\n",
       " 'Age8',\n",
       " 'Salary (US Dollars)8',\n",
       " 'Bonus (US Dollars)8',\n",
       " 'Contact Prefix9',\n",
       " 'Contact First Name9',\n",
       " 'Contact Middle Name9',\n",
       " 'Contact Last Name9',\n",
       " 'Contact Suffix9',\n",
       " 'Contact Title9',\n",
       " 'Age9',\n",
       " 'Salary (US Dollars)9',\n",
       " 'Bonus (US Dollars)9',\n",
       " 'Contact Prefix10',\n",
       " 'Contact First Name10',\n",
       " 'Contact Middle Name10',\n",
       " 'Contact Last Name10',\n",
       " 'Contact Suffix10',\n",
       " 'Contact Title10',\n",
       " 'Age10',\n",
       " 'Salary (US Dollars)10',\n",
       " 'Bonus (US Dollars)10',\n",
       " 'Contact Prefix11',\n",
       " 'Contact First Name11',\n",
       " 'Contact Middle Name11',\n",
       " 'Contact Last Name11',\n",
       " 'Contact Suffix11',\n",
       " 'Contact Title11',\n",
       " 'Age11',\n",
       " 'Salary (US Dollars)11',\n",
       " 'Bonus (US Dollars)11',\n",
       " 'Contact Prefix12',\n",
       " 'Contact First Name12',\n",
       " 'Contact Middle Name12',\n",
       " 'Contact Last Name12',\n",
       " 'Contact Suffix12',\n",
       " 'Contact Title12',\n",
       " 'Age12',\n",
       " 'Salary (US Dollars)12',\n",
       " 'Bonus (US Dollars)12',\n",
       " 'Contact Prefix13',\n",
       " 'Contact First Name13',\n",
       " 'Contact Middle Name13',\n",
       " 'Contact Last Name13',\n",
       " 'Contact Suffix13',\n",
       " 'Contact Title13',\n",
       " 'Age13',\n",
       " 'Salary (US Dollars)13',\n",
       " 'Bonus (US Dollars)13']"
      ]
     },
     "execution_count": 4,
     "metadata": {},
     "output_type": "execute_result"
    }
   ],
   "source": [
    "list(df1)"
   ]
  },
  {
   "cell_type": "markdown",
   "metadata": {},
   "source": [
    "possible important columns: Line Of Business, Owns Rents, Facility Size, Is Importer, Is Exporter, Doing Business As, Company Type, Is Subsidiary, Is Manufacturing, Language Preference, Is Women Owned, Is Minority Owned, Fiscal Year-End, Revenue (US Dollars, million), Revenue Growth (%), Net Income (US Dollars, million), Income Growth (%), Total Employees, Employee Growth (%), Total Assets (US Dollars, million), Market Value (US Dollars, million), Primary Industry "
   ]
  },
  {
   "cell_type": "code",
   "execution_count": 5,
   "metadata": {
    "collapsed": false
   },
   "outputs": [],
   "source": [
    "df = df1[['Company Name','Line Of Business','Owns Rents','Facility Size (sq Ft)', 'Is Importer', 'Is Exporter', 'Is Manufacturing', 'Is Women Owned', 'Is Minority Owned', 'Revenue (US Dollars, million)', 'Net Income (US Dollars, million)', 'Total Employees', 'Total Assets (US Dollars, million)', 'Primary Industry' ]]"
   ]
  },
  {
   "cell_type": "code",
   "execution_count": 6,
   "metadata": {
    "collapsed": false,
    "scrolled": true
   },
   "outputs": [
    {
     "data": {
      "text/html": [
       "<div>\n",
       "<table border=\"1\" class=\"dataframe\">\n",
       "  <thead>\n",
       "    <tr style=\"text-align: right;\">\n",
       "      <th></th>\n",
       "      <th>Company Name</th>\n",
       "      <th>Line Of Business</th>\n",
       "      <th>Owns Rents</th>\n",
       "      <th>Facility Size (sq Ft)</th>\n",
       "      <th>Is Importer</th>\n",
       "      <th>Is Exporter</th>\n",
       "      <th>Is Manufacturing</th>\n",
       "      <th>Is Women Owned</th>\n",
       "      <th>Is Minority Owned</th>\n",
       "      <th>Revenue (US Dollars, million)</th>\n",
       "      <th>Net Income (US Dollars, million)</th>\n",
       "      <th>Total Employees</th>\n",
       "      <th>Total Assets (US Dollars, million)</th>\n",
       "      <th>Primary Industry</th>\n",
       "    </tr>\n",
       "  </thead>\n",
       "  <tbody>\n",
       "    <tr>\n",
       "      <th>0</th>\n",
       "      <td>Clement Welding &amp; Fabricating Inc</td>\n",
       "      <td>Fabricated metal products, nec, nsk</td>\n",
       "      <td>Owns</td>\n",
       "      <td>10000.0</td>\n",
       "      <td>No</td>\n",
       "      <td>No</td>\n",
       "      <td>Yes</td>\n",
       "      <td>No</td>\n",
       "      <td>No</td>\n",
       "      <td>1.400000</td>\n",
       "      <td>0.0</td>\n",
       "      <td>15.0</td>\n",
       "      <td>0.0</td>\n",
       "      <td>Fabricated Metal Product Manufacturing</td>\n",
       "    </tr>\n",
       "    <tr>\n",
       "      <th>1</th>\n",
       "      <td>Bencher Inc</td>\n",
       "      <td>Photographic equipment and supplies</td>\n",
       "      <td>Rents</td>\n",
       "      <td>11000.0</td>\n",
       "      <td>No</td>\n",
       "      <td>No</td>\n",
       "      <td>Yes</td>\n",
       "      <td>No</td>\n",
       "      <td>No</td>\n",
       "      <td>1.400000</td>\n",
       "      <td>0.0</td>\n",
       "      <td>12.0</td>\n",
       "      <td>0.0</td>\n",
       "      <td>Photographic &amp; Optical Equipment/Supplies Manu...</td>\n",
       "    </tr>\n",
       "    <tr>\n",
       "      <th>2</th>\n",
       "      <td>Pride Abrasive Inc</td>\n",
       "      <td>Abrasive products, nsk</td>\n",
       "      <td>Rents</td>\n",
       "      <td>11500.0</td>\n",
       "      <td>Yes</td>\n",
       "      <td>No</td>\n",
       "      <td>Yes</td>\n",
       "      <td>Yes</td>\n",
       "      <td>No</td>\n",
       "      <td>1.400000</td>\n",
       "      <td>0.0</td>\n",
       "      <td>17.0</td>\n",
       "      <td>0.0</td>\n",
       "      <td>Abrasives Manufacturing</td>\n",
       "    </tr>\n",
       "    <tr>\n",
       "      <th>3</th>\n",
       "      <td>Puratos Corporation</td>\n",
       "      <td>Food preparations, nec, nsk</td>\n",
       "      <td>NaN</td>\n",
       "      <td>11178.0</td>\n",
       "      <td>No</td>\n",
       "      <td>No</td>\n",
       "      <td>Yes</td>\n",
       "      <td>No</td>\n",
       "      <td>No</td>\n",
       "      <td>1.334543</td>\n",
       "      <td>0.0</td>\n",
       "      <td>NaN</td>\n",
       "      <td>0.0</td>\n",
       "      <td>Food Manufacturing</td>\n",
       "    </tr>\n",
       "    <tr>\n",
       "      <th>4</th>\n",
       "      <td>A T Polishing Inc</td>\n",
       "      <td>Plating and polishing</td>\n",
       "      <td>Owns</td>\n",
       "      <td>8335.0</td>\n",
       "      <td>No</td>\n",
       "      <td>No</td>\n",
       "      <td>Yes</td>\n",
       "      <td>No</td>\n",
       "      <td>No</td>\n",
       "      <td>1.500000</td>\n",
       "      <td>0.0</td>\n",
       "      <td>20.0</td>\n",
       "      <td>0.0</td>\n",
       "      <td>Fabricated Metal Product Manufacturing</td>\n",
       "    </tr>\n",
       "  </tbody>\n",
       "</table>\n",
       "</div>"
      ],
      "text/plain": [
       "                        Company Name                     Line Of Business  \\\n",
       "0  Clement Welding & Fabricating Inc  Fabricated metal products, nec, nsk   \n",
       "1                        Bencher Inc  Photographic equipment and supplies   \n",
       "2                 Pride Abrasive Inc               Abrasive products, nsk   \n",
       "3                Puratos Corporation          Food preparations, nec, nsk   \n",
       "4                  A T Polishing Inc                Plating and polishing   \n",
       "\n",
       "  Owns Rents  Facility Size (sq Ft) Is Importer Is Exporter Is Manufacturing  \\\n",
       "0       Owns                10000.0          No          No              Yes   \n",
       "1      Rents                11000.0          No          No              Yes   \n",
       "2      Rents                11500.0         Yes          No              Yes   \n",
       "3        NaN                11178.0          No          No              Yes   \n",
       "4       Owns                 8335.0          No          No              Yes   \n",
       "\n",
       "  Is Women Owned Is Minority Owned  Revenue (US Dollars, million)  \\\n",
       "0             No                No                       1.400000   \n",
       "1             No                No                       1.400000   \n",
       "2            Yes                No                       1.400000   \n",
       "3             No                No                       1.334543   \n",
       "4             No                No                       1.500000   \n",
       "\n",
       "   Net Income (US Dollars, million)  Total Employees  \\\n",
       "0                               0.0             15.0   \n",
       "1                               0.0             12.0   \n",
       "2                               0.0             17.0   \n",
       "3                               0.0              NaN   \n",
       "4                               0.0             20.0   \n",
       "\n",
       "   Total Assets (US Dollars, million)  \\\n",
       "0                                 0.0   \n",
       "1                                 0.0   \n",
       "2                                 0.0   \n",
       "3                                 0.0   \n",
       "4                                 0.0   \n",
       "\n",
       "                                    Primary Industry  \n",
       "0             Fabricated Metal Product Manufacturing  \n",
       "1  Photographic & Optical Equipment/Supplies Manu...  \n",
       "2                            Abrasives Manufacturing  \n",
       "3                                 Food Manufacturing  \n",
       "4             Fabricated Metal Product Manufacturing  "
      ]
     },
     "execution_count": 6,
     "metadata": {},
     "output_type": "execute_result"
    }
   ],
   "source": [
    "df.head()"
   ]
  },
  {
   "cell_type": "markdown",
   "metadata": {},
   "source": [
    "Some notes: I have kept 'Owns Rents' as I feel it may prove usefule, but it should be noted only about 40% have entries.\n",
    "\n",
    "It appears that there are companies listed more than once. For now, I will not consolidate them but treat them as separate entities.\n",
    "Facility Size, Revenue, etc have some NaN's, so be prepared for those.\n",
    "Net Income has 16924 0's. Total assets likewise has 17177 0's. So these columns have zero's rather than NaN's that should be accounted for."
   ]
  },
  {
   "cell_type": "markdown",
   "metadata": {},
   "source": [
    "# Visualization Exploration\n",
    "\n",
    "## Questions to consider\n",
    "\n",
    "\n",
    "\n",
    "    Can you count something interesting?\n",
    "\n",
    "    Can you find some trends (high, low, increase, decrease, anomalies)?\n",
    "\n",
    "    Can you make a bar plot or a histogram?\n",
    "\n",
    "    Can you compare two related quantities?\n",
    "\n",
    "    Can you make a scatterplot?\n",
    "\n",
    "    Can you make a time-series plot?\n"
   ]
  },
  {
   "cell_type": "code",
   "execution_count": 7,
   "metadata": {
    "collapsed": false
   },
   "outputs": [
    {
     "data": {
      "text/plain": [
       "No     18853\n",
       "Yes     1212\n",
       "Name: Is Exporter, dtype: int64"
      ]
     },
     "execution_count": 7,
     "metadata": {},
     "output_type": "execute_result"
    }
   ],
   "source": [
    "df['Is Exporter'].value_counts()"
   ]
  },
  {
   "cell_type": "code",
   "execution_count": 8,
   "metadata": {
    "collapsed": false
   },
   "outputs": [
    {
     "data": {
      "text/plain": [
       "No     18372\n",
       "Yes     1693\n",
       "Name: Is Importer, dtype: int64"
      ]
     },
     "execution_count": 8,
     "metadata": {},
     "output_type": "execute_result"
    }
   ],
   "source": [
    "df['Is Importer'].value_counts()"
   ]
  },
  {
   "cell_type": "code",
   "execution_count": 9,
   "metadata": {
    "collapsed": false,
    "scrolled": true
   },
   "outputs": [
    {
     "data": {
      "text/plain": [
       "Yes    15226\n",
       "No      4839\n",
       "Name: Is Manufacturing, dtype: int64"
      ]
     },
     "execution_count": 9,
     "metadata": {},
     "output_type": "execute_result"
    }
   ],
   "source": [
    "df['Is Manufacturing'].value_counts()"
   ]
  },
  {
   "cell_type": "code",
   "execution_count": 10,
   "metadata": {
    "collapsed": false
   },
   "outputs": [
    {
     "data": {
      "text/html": [
       "<div>\n",
       "<table border=\"1\" class=\"dataframe\">\n",
       "  <thead>\n",
       "    <tr style=\"text-align: right;\">\n",
       "      <th></th>\n",
       "      <th>Facility Size (sq Ft)</th>\n",
       "      <th>Revenue (US Dollars, million)</th>\n",
       "      <th>Net Income (US Dollars, million)</th>\n",
       "      <th>Total Employees</th>\n",
       "      <th>Total Assets (US Dollars, million)</th>\n",
       "    </tr>\n",
       "  </thead>\n",
       "  <tbody>\n",
       "    <tr>\n",
       "      <th>count</th>\n",
       "      <td>1.960700e+04</td>\n",
       "      <td>17218.000000</td>\n",
       "      <td>17218.000000</td>\n",
       "      <td>17249.000000</td>\n",
       "      <td>17218.000000</td>\n",
       "    </tr>\n",
       "    <tr>\n",
       "      <th>mean</th>\n",
       "      <td>1.935271e+04</td>\n",
       "      <td>17.614536</td>\n",
       "      <td>0.253996</td>\n",
       "      <td>75.136704</td>\n",
       "      <td>6.028600</td>\n",
       "    </tr>\n",
       "    <tr>\n",
       "      <th>std</th>\n",
       "      <td>6.479473e+04</td>\n",
       "      <td>337.095765</td>\n",
       "      <td>18.218770</td>\n",
       "      <td>1266.019418</td>\n",
       "      <td>266.924297</td>\n",
       "    </tr>\n",
       "    <tr>\n",
       "      <th>min</th>\n",
       "      <td>0.000000e+00</td>\n",
       "      <td>0.000005</td>\n",
       "      <td>-1178.004000</td>\n",
       "      <td>1.000000</td>\n",
       "      <td>0.000000</td>\n",
       "    </tr>\n",
       "    <tr>\n",
       "      <th>25%</th>\n",
       "      <td>2.518000e+03</td>\n",
       "      <td>0.110000</td>\n",
       "      <td>0.000000</td>\n",
       "      <td>2.000000</td>\n",
       "      <td>0.000000</td>\n",
       "    </tr>\n",
       "    <tr>\n",
       "      <th>50%</th>\n",
       "      <td>4.204000e+03</td>\n",
       "      <td>0.302094</td>\n",
       "      <td>0.000000</td>\n",
       "      <td>4.000000</td>\n",
       "      <td>0.000000</td>\n",
       "    </tr>\n",
       "    <tr>\n",
       "      <th>75%</th>\n",
       "      <td>1.386000e+04</td>\n",
       "      <td>1.700000</td>\n",
       "      <td>0.000000</td>\n",
       "      <td>15.000000</td>\n",
       "      <td>0.000000</td>\n",
       "    </tr>\n",
       "    <tr>\n",
       "      <th>max</th>\n",
       "      <td>3.300000e+06</td>\n",
       "      <td>37179.000000</td>\n",
       "      <td>1563.000000</td>\n",
       "      <td>139000.000000</td>\n",
       "      <td>29673.000000</td>\n",
       "    </tr>\n",
       "  </tbody>\n",
       "</table>\n",
       "</div>"
      ],
      "text/plain": [
       "       Facility Size (sq Ft)  Revenue (US Dollars, million)  \\\n",
       "count           1.960700e+04                   17218.000000   \n",
       "mean            1.935271e+04                      17.614536   \n",
       "std             6.479473e+04                     337.095765   \n",
       "min             0.000000e+00                       0.000005   \n",
       "25%             2.518000e+03                       0.110000   \n",
       "50%             4.204000e+03                       0.302094   \n",
       "75%             1.386000e+04                       1.700000   \n",
       "max             3.300000e+06                   37179.000000   \n",
       "\n",
       "       Net Income (US Dollars, million)  Total Employees  \\\n",
       "count                      17218.000000     17249.000000   \n",
       "mean                           0.253996        75.136704   \n",
       "std                           18.218770      1266.019418   \n",
       "min                        -1178.004000         1.000000   \n",
       "25%                            0.000000         2.000000   \n",
       "50%                            0.000000         4.000000   \n",
       "75%                            0.000000        15.000000   \n",
       "max                         1563.000000    139000.000000   \n",
       "\n",
       "       Total Assets (US Dollars, million)  \n",
       "count                        17218.000000  \n",
       "mean                             6.028600  \n",
       "std                            266.924297  \n",
       "min                              0.000000  \n",
       "25%                              0.000000  \n",
       "50%                              0.000000  \n",
       "75%                              0.000000  \n",
       "max                          29673.000000  "
      ]
     },
     "execution_count": 10,
     "metadata": {},
     "output_type": "execute_result"
    }
   ],
   "source": [
    "df.describe()"
   ]
  },
  {
   "cell_type": "code",
   "execution_count": 11,
   "metadata": {
    "collapsed": false,
    "scrolled": false
   },
   "outputs": [
    {
     "data": {
      "image/png": "[encoded data removed]",
      "text/plain": [
       "<matplotlib.figure.Figure at 0xeace8d0>"
      ]
     },
     "metadata": {},
     "output_type": "display_data"
    }
   ],
   "source": [
    "x = df1['Revenue (US Dollars, million)'].dropna()\n",
    "\n",
    "plt.hist(x,bins=50, range = [0, 10])\n",
    "plt.show()"
   ]
  },
  {
   "cell_type": "markdown",
   "metadata": {},
   "source": [
    "The revenue is heavily skewed to the low end. This makes sense in that most of these companies are smaller."
   ]
  },
  {
   "cell_type": "code",
   "execution_count": 12,
   "metadata": {
    "collapsed": false
   },
   "outputs": [
    {
     "name": "stderr",
     "output_type": "stream",
     "text": [
      "C:\\Users\\asduser\\AppData\\Local\\Continuum\\Anaconda3\\lib\\site-packages\\statsmodels\\nonparametric\\kdetools.py:20: VisibleDeprecationWarning: using a non-integer number instead of an integer will result in an error in the future\n",
      "  y = X[:m/2+1] + np.r_[0,X[m/2+1:],0]*1j\n"
     ]
    },
    {
     "data": {
      "text/plain": [
       "<matplotlib.axes._subplots.AxesSubplot at 0xeb0e400>"
      ]
     },
     "execution_count": 12,
     "metadata": {},
     "output_type": "execute_result"
    },
    {
     "data": {
      "image/png": "[encoded data removed]",
      "text/plain": [
       "<matplotlib.figure.Figure at 0x11343c88>"
      ]
     },
     "metadata": {},
     "output_type": "display_data"
    }
   ],
   "source": [
    "sns.kdeplot(df['Facility Size (sq Ft)'].dropna(), shade=True)\n"
   ]
  },
  {
   "cell_type": "markdown",
   "metadata": {},
   "source": [
    "The facility size is likewise skewed to the low end with a few very large outliers."
   ]
  },
  {
   "cell_type": "code",
   "execution_count": 69,
   "metadata": {
    "collapsed": false
   },
   "outputs": [
    {
     "data": {
      "text/plain": [
       "<matplotlib.axes._subplots.AxesSubplot at 0x161064e0>"
      ]
     },
     "execution_count": 69,
     "metadata": {},
     "output_type": "execute_result"
    },
    {
     "data": {
      "image/png": "[encoded data removed]",
      "text/plain": [
       "<matplotlib.figure.Figure at 0x16161a20>"
      ]
     },
     "metadata": {},
     "output_type": "display_data"
    }
   ],
   "source": [
    "sns.regplot(y=df['Revenue (US Dollars, million)'], x=df['Facility Size (sq Ft)'], fit_reg = True)"
   ]
  },
  {
   "cell_type": "code",
   "execution_count": 62,
   "metadata": {
    "collapsed": false
   },
   "outputs": [],
   "source": [
    "a = np.zeros(shape=(len(df),1))"
   ]
  },
  {
   "cell_type": "code",
   "execution_count": 32,
   "metadata": {
    "collapsed": false,
    "scrolled": true
   },
   "outputs": [
    {
     "name": "stderr",
     "output_type": "stream",
     "text": [
      "C:\\Users\\asduser\\AppData\\Local\\Continuum\\Anaconda3\\lib\\site-packages\\ipykernel\\__main__.py:1: SettingWithCopyWarning: \n",
      "A value is trying to be set on a copy of a slice from a DataFrame.\n",
      "Try using .loc[row_indexer,col_indexer] = value instead\n",
      "\n",
      "See the caveats in the documentation: http://pandas.pydata.org/pandas-docs/stable/indexing.html#indexing-view-versus-copy\n",
      "  if __name__ == '__main__':\n"
     ]
    }
   ],
   "source": [
    "df['Export']= pd.DataFrame(a)"
   ]
  },
  {
   "cell_type": "code",
   "execution_count": 33,
   "metadata": {
    "collapsed": false,
    "scrolled": true
   },
   "outputs": [],
   "source": [
    "for i in range(len(df['Is Exporter'])): #Creating a new column called export that is all zeros, and changing the value to 1's or 0's \n",
    "    if df['Is Exporter'][i] == 'Yes':\n",
    "        df['Export'].set_value(i, 1)"
   ]
  },
  {
   "cell_type": "code",
   "execution_count": 68,
   "metadata": {
    "collapsed": false
   },
   "outputs": [
    {
     "data": {
      "text/plain": [
       "<matplotlib.axes._subplots.AxesSubplot at 0x141c5fd0>"
      ]
     },
     "execution_count": 68,
     "metadata": {},
     "output_type": "execute_result"
    },
    {
     "data": {
      "image/png": "[encoded data removed]",
      "text/plain": [
       "<matplotlib.figure.Figure at 0x14207d68>"
      ]
     },
     "metadata": {},
     "output_type": "display_data"
    }
   ],
   "source": [
    "sns.regplot(y=df['Revenue (US Dollars, million)'], x=df['Export'], fit_reg = False)"
   ]
  },
  {
   "cell_type": "code",
   "execution_count": 67,
   "metadata": {
    "collapsed": false
   },
   "outputs": [
    {
     "data": {
      "text/plain": [
       "<matplotlib.axes._subplots.AxesSubplot at 0x1403dcc0>"
      ]
     },
     "execution_count": 67,
     "metadata": {},
     "output_type": "execute_result"
    },
    {
     "data": {
      "image/png": "[encoded data removed]",
      "text/plain": [
       "<matplotlib.figure.Figure at 0x13eb4eb8>"
      ]
     },
     "metadata": {},
     "output_type": "display_data"
    }
   ],
   "source": [
    "sns.regplot(y=df['Facility Size (sq Ft)'], x=df['Export'], fit_reg = False)"
   ]
  },
  {
   "cell_type": "markdown",
   "metadata": {},
   "source": [
    "There appears to be an upward trend in revenue between exporters compared to non-exporters, and similar with facility. However, a better measure, according to theory, is productivity. So I want to compute revenue per employee, facility per employee, and revenue per facility to look at trends there."
   ]
  },
  {
   "cell_type": "code",
   "execution_count": 63,
   "metadata": {
    "collapsed": false
   },
   "outputs": [
    {
     "data": {
      "text/plain": [
       "<matplotlib.axes._subplots.AxesSubplot at 0x12c43e80>"
      ]
     },
     "execution_count": 63,
     "metadata": {},
     "output_type": "execute_result"
    },
    {
     "data": {
      "image/png": "[encoded data removed]",
      "text/plain": [
       "<matplotlib.figure.Figure at 0x13e78d30>"
      ]
     },
     "metadata": {},
     "output_type": "display_data"
    }
   ],
   "source": [
    "sns.regplot(y=df['Facility Size (sq Ft)'], x=df['Total Employees'], fit_reg = True)"
   ]
  },
  {
   "cell_type": "markdown",
   "metadata": {},
   "source": [
    "So far these are not comparisons between exporters and non, but this last one provides a the first real clear correlation trend."
   ]
  },
  {
   "cell_type": "code",
   "execution_count": 50,
   "metadata": {
    "collapsed": false
   },
   "outputs": [
    {
     "data": {
      "text/plain": [
       "<matplotlib.axes._subplots.AxesSubplot at 0xa51e7b8>"
      ]
     },
     "execution_count": 50,
     "metadata": {},
     "output_type": "execute_result"
    },
    {
     "data": {
      "image/png": "[encoded data removed]",
      "text/plain": [
       "<matplotlib.figure.Figure at 0x13097710>"
      ]
     },
     "metadata": {},
     "output_type": "display_data"
    }
   ],
   "source": [
    "sns.regplot(y=df['Revenue (US Dollars, million)'], x=df['Total Employees'], fit_reg = True)"
   ]
  },
  {
   "cell_type": "code",
   "execution_count": 44,
   "metadata": {
    "collapsed": true
   },
   "outputs": [],
   "source": [
    "mask = ~np.isnan(df['Total Employees']) & ~np.isnan(df['Revenue (US Dollars, million)'])\n",
    "slope, intercept, r_value, p_value, std_err = stats.linregress(df['Total Employees'][mask], df['Revenue (US Dollars, million)'][mask])"
   ]
  },
  {
   "cell_type": "code",
   "execution_count": 47,
   "metadata": {
    "collapsed": false
   },
   "outputs": [
    {
     "name": "stdout",
     "output_type": "stream",
     "text": [
      "Revenue = 0.257081744012*Employees + -1.14749808441\n"
     ]
    }
   ],
   "source": [
    "print('Revenue = ' + str(slope) + '*Employees + ' + str(intercept))"
   ]
  },
  {
   "cell_type": "code",
   "execution_count": 54,
   "metadata": {
    "collapsed": false
   },
   "outputs": [],
   "source": [
    "#Creating the comparisson values.\n",
    "RevPerEm = df['Revenue (US Dollars, million)']/df['Total Employees']\n",
    "RevPerSq =df['Revenue (US Dollars, million)']/df['Facility Size (sq Ft)']\n",
    "SqPerEm = df['Facility Size (sq Ft)']/df['Total Employees']"
   ]
  },
  {
   "cell_type": "code",
   "execution_count": 71,
   "metadata": {
    "collapsed": false,
    "scrolled": true
   },
   "outputs": [
    {
     "data": {
      "text/plain": [
       "<matplotlib.axes._subplots.AxesSubplot at 0x1613ad68>"
      ]
     },
     "execution_count": 71,
     "metadata": {},
     "output_type": "execute_result"
    },
    {
     "data": {
      "image/png": "[encoded data removed]",
      "text/plain": [
       "<matplotlib.figure.Figure at 0x16218d30>"
      ]
     },
     "metadata": {},
     "output_type": "display_data"
    }
   ],
   "source": [
    "sns.regplot(y=RevPerEm, x=df['Export'], fit_reg = False)"
   ]
  },
  {
   "cell_type": "code",
   "execution_count": 72,
   "metadata": {
    "collapsed": false,
    "scrolled": true
   },
   "outputs": [
    {
     "data": {
      "text/plain": [
       "<matplotlib.axes._subplots.AxesSubplot at 0x162a40f0>"
      ]
     },
     "execution_count": 72,
     "metadata": {},
     "output_type": "execute_result"
    },
    {
     "data": {
      "image/png": "[encoded data removed]",
      "text/plain": [
       "<matplotlib.figure.Figure at 0x162ebe48>"
      ]
     },
     "metadata": {},
     "output_type": "display_data"
    }
   ],
   "source": [
    "sns.regplot(y=RevPerSq, x=df['Export'], fit_reg = False)"
   ]
  },
  {
   "cell_type": "code",
   "execution_count": 73,
   "metadata": {
    "collapsed": false
   },
   "outputs": [
    {
     "data": {
      "text/plain": [
       "<matplotlib.axes._subplots.AxesSubplot at 0x163644e0>"
      ]
     },
     "execution_count": 73,
     "metadata": {},
     "output_type": "execute_result"
    },
    {
     "data": {
      "image/png": "[encoded data removed]",
      "text/plain": [
       "<matplotlib.figure.Figure at 0x16378668>"
      ]
     },
     "metadata": {},
     "output_type": "display_data"
    }
   ],
   "source": [
    "sns.regplot(y=SqPerEm, x=df['Export'], fit_reg = False)"
   ]
  },
  {
   "cell_type": "code",
   "execution_count": 58,
   "metadata": {
    "collapsed": true
   },
   "outputs": [],
   "source": [
    "export_yes = df[df['Is Exporter'] == 'Yes']\n",
    "export_no = df[df['Is Exporter'] == 'No']"
   ]
  },
  {
   "cell_type": "code",
   "execution_count": 59,
   "metadata": {
    "collapsed": true
   },
   "outputs": [],
   "source": [
    "yes_RevPerEm = export_yes['Revenue (US Dollars, million)']/export_yes['Total Employees']\n",
    "yes_RevPerSq =export_yes['Revenue (US Dollars, million)']/export_yes['Facility Size (sq Ft)']\n",
    "yes_SqPerEm = export_yes['Facility Size (sq Ft)']/export_yes['Total Employees']\n",
    "\n",
    "no_RevPerEm = export_no['Revenue (US Dollars, million)']/export_no['Total Employees']\n",
    "no_RevPerSq =export_no['Revenue (US Dollars, million)']/export_no['Facility Size (sq Ft)']\n",
    "no_SqPerEm = export_no['Facility Size (sq Ft)']/export_no['Total Employees']"
   ]
  },
  {
   "cell_type": "code",
   "execution_count": 61,
   "metadata": {
    "collapsed": false
   },
   "outputs": [
    {
     "data": {
      "text/plain": [
       "(count     15642.000000\n",
       " mean       1346.549110\n",
       " std        4457.916004\n",
       " min           0.046000\n",
       " 25%         600.000000\n",
       " 50%        1100.000000\n",
       " 75%        1641.500000\n",
       " max      406000.000000\n",
       " dtype: float64, count     1202.000000\n",
       " mean      1035.093049\n",
       " std       1262.358990\n",
       " min          0.248662\n",
       " 25%        325.000000\n",
       " 50%        734.731629\n",
       " 75%       1363.636364\n",
       " max      17142.857143\n",
       " dtype: float64)"
      ]
     },
     "execution_count": 61,
     "metadata": {},
     "output_type": "execute_result"
    }
   ],
   "source": [
    "no_SqPerEm.describe(), yes_SqPerEm.describe()"
   ]
  },
  {
   "cell_type": "code",
   "execution_count": 74,
   "metadata": {
    "collapsed": false
   },
   "outputs": [
    {
     "data": {
      "text/plain": [
       "(count    1.565600e+04\n",
       " mean              inf\n",
       " std               NaN\n",
       " min      2.626050e-10\n",
       " 25%      4.041383e-05\n",
       " 50%      7.453809e-05\n",
       " 75%      1.941078e-04\n",
       " max               inf\n",
       " dtype: float64, count    1.166000e+03\n",
       " mean     6.797815e-03\n",
       " std      4.709103e-02\n",
       " min      5.212334e-07\n",
       " 25%      9.290342e-05\n",
       " 50%      2.451423e-04\n",
       " 75%      6.278297e-04\n",
       " max      1.075657e+00\n",
       " dtype: float64)"
      ]
     },
     "execution_count": 74,
     "metadata": {},
     "output_type": "execute_result"
    }
   ],
   "source": [
    "no_RevPerSq.describe(), yes_RevPerSq.describe()"
   ]
  },
  {
   "cell_type": "markdown",
   "metadata": {},
   "source": [
    "This one is thrown off a bit by the infinite point, but there is a higher 75 percentile in the yes."
   ]
  },
  {
   "cell_type": "code",
   "execution_count": 75,
   "metadata": {
    "collapsed": false
   },
   "outputs": [
    {
     "data": {
      "text/plain": [
       "(count    1.568100e+04\n",
       " mean     1.245914e-01\n",
       " std      5.564048e-01\n",
       " min      1.315789e-07\n",
       " 25%      5.766033e-02\n",
       " 50%      8.415600e-02\n",
       " 75%      1.300000e-01\n",
       " max      6.188920e+01\n",
       " dtype: float64, count    1175.000000\n",
       " mean        0.236956\n",
       " std         0.883243\n",
       " min         0.000206\n",
       " 25%         0.095500\n",
       " 50%         0.170236\n",
       " 75%         0.274581\n",
       " max        29.685864\n",
       " dtype: float64)"
      ]
     },
     "execution_count": 75,
     "metadata": {},
     "output_type": "execute_result"
    }
   ],
   "source": [
    "no_RevPerEm.describe(), yes_RevPerEm.describe()"
   ]
  },
  {
   "cell_type": "markdown",
   "metadata": {},
   "source": [
    "Here there is about 2x higher mean for the exporters. "
   ]
  },
  {
   "cell_type": "markdown",
   "metadata": {},
   "source": [
    "# Conclusion\n",
    "\n",
    "The companies in this data set are primarily on the smaller side with a dramatic skew toward the small revenue and employee size, etc.\n",
    "\n",
    "Looking at all these visulaizations, it seems that the most dramatic relationships are between revenue and employees and revenue and facility size. These show up as correlation in the scatterplots and in a comparison of the means."
   ]
  }
 ],
 "metadata": {
  "kernelspec": {
   "display_name": "Python 3",
   "language": "python",
   "name": "python3"
  },
  "language_info": {
   "codemirror_mode": {
    "name": "ipython",
    "version": 3
   },
   "file_extension": ".py",
   "mimetype": "text/x-python",
   "name": "python",
   "nbconvert_exporter": "python",
   "pygments_lexer": "ipython3",
   "version": "3.6.0"
  }
 },
 "nbformat": 4,
 "nbformat_minor": 2
}
